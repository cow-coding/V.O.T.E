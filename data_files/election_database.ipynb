{
  "nbformat": 4,
  "nbformat_minor": 0,
  "metadata": {
    "colab": {
      "name": "election_database.ipynb",
      "provenance": [],
      "collapsed_sections": [],
      "toc_visible": true
    },
    "kernelspec": {
      "name": "python3",
      "display_name": "Python 3"
    },
    "language_info": {
      "name": "python"
    }
  },
  "cells": [
    {
      "cell_type": "markdown",
      "metadata": {
        "id": "xw0QtxzwR4HV"
      },
      "source": [
        "# Import Library"
      ]
    },
    {
      "cell_type": "code",
      "metadata": {
        "colab": {
          "base_uri": "https://localhost:8080/"
        },
        "id": "oCgQCPamgR5f",
        "outputId": "5607f8b6-ca86-46a9-c473-24714b192ade"
      },
      "source": [
        "!pip install pymysql\n",
        "!pip install xmltodict\n",
        "!pip install cryptography"
      ],
      "execution_count": 1,
      "outputs": [
        {
          "output_type": "stream",
          "text": [
            "Collecting pymysql\n",
            "\u001b[?25l  Downloading https://files.pythonhosted.org/packages/4f/52/a115fe175028b058df353c5a3d5290b71514a83f67078a6482cff24d6137/PyMySQL-1.0.2-py3-none-any.whl (43kB)\n",
            "\r\u001b[K     |███████▌                        | 10kB 16.2MB/s eta 0:00:01\r\u001b[K     |███████████████                 | 20kB 23.1MB/s eta 0:00:01\r\u001b[K     |██████████████████████▍         | 30kB 27.2MB/s eta 0:00:01\r\u001b[K     |██████████████████████████████  | 40kB 29.3MB/s eta 0:00:01\r\u001b[K     |████████████████████████████████| 51kB 7.0MB/s \n",
            "\u001b[?25hInstalling collected packages: pymysql\n",
            "Successfully installed pymysql-1.0.2\n",
            "Collecting xmltodict\n",
            "  Downloading https://files.pythonhosted.org/packages/28/fd/30d5c1d3ac29ce229f6bdc40bbc20b28f716e8b363140c26eff19122d8a5/xmltodict-0.12.0-py2.py3-none-any.whl\n",
            "Installing collected packages: xmltodict\n",
            "Successfully installed xmltodict-0.12.0\n",
            "Collecting cryptography\n",
            "\u001b[?25l  Downloading https://files.pythonhosted.org/packages/b2/26/7af637e6a7e87258b963f1731c5982fb31cd507f0d90d91836e446955d02/cryptography-3.4.7-cp36-abi3-manylinux2014_x86_64.whl (3.2MB)\n",
            "\u001b[K     |████████████████████████████████| 3.2MB 22.1MB/s \n",
            "\u001b[?25hRequirement already satisfied: cffi>=1.12 in /usr/local/lib/python3.7/dist-packages (from cryptography) (1.14.5)\n",
            "Requirement already satisfied: pycparser in /usr/local/lib/python3.7/dist-packages (from cffi>=1.12->cryptography) (2.20)\n",
            "Installing collected packages: cryptography\n",
            "Successfully installed cryptography-3.4.7\n"
          ],
          "name": "stdout"
        }
      ]
    },
    {
      "cell_type": "code",
      "metadata": {
        "id": "TJid1331R30v"
      },
      "source": [
        "import json\n",
        "import urllib\n",
        "import pandas as pd\n",
        "from urllib.parse import urlencode, quote_plus, unquote, quote\n",
        "from urllib.request import urlopen\n",
        "from pandas.io.json import json_normalize\n",
        "from sqlalchemy import create_engine\n",
        "import pymysql\n",
        "import datetime as dt\n",
        "import sklearn\n",
        "from sklearn.preprocessing import LabelEncoder\n",
        "import json\n",
        "import xmltodict\n",
        "import multiprocessing as mp\n",
        "import cryptography\n",
        "\n",
        "pymysql.install_as_MySQLdb()\n",
        "import MySQLdb\n",
        "\n",
        "pd.options.display.max_colwidth = 100"
      ],
      "execution_count": 2,
      "outputs": []
    },
    {
      "cell_type": "markdown",
      "metadata": {
        "id": "QJl9SpI8R7oJ"
      },
      "source": [
        "# Dataframe make function"
      ]
    },
    {
      "cell_type": "code",
      "metadata": {
        "id": "nQ7Tnfd_R7dZ"
      },
      "source": [
        "service_key = 'SE0dHlfRrFs9F7Z8K6y6qmYRqrAFPtIrJnMdsrJLTMm1y5JvTVKl5Z8JpG4%2BBcvj%2Bv9kS1d1%2B8gQBmmxcMqMXg%3D%3D'"
      ],
      "execution_count": 3,
      "outputs": []
    },
    {
      "cell_type": "markdown",
      "metadata": {
        "id": "j1CbS2MOSF2y"
      },
      "source": [
        "## Election Code dataframe make function"
      ]
    },
    {
      "cell_type": "code",
      "metadata": {
        "id": "MjotY0EaR089"
      },
      "source": [
        "def get_election_df(pg_num = 1, num_row = 100):\n",
        "  election_base_url = 'http://apis.data.go.kr/9760000/CommonCodeService/getCommonSgCodeList'\n",
        "\n",
        "  page_no = str(pg_num)\n",
        "  num_of_rows = str(num_row)                                  # maximum 34 datas\n",
        "\n",
        "  queryParams = '?' + urlencode({\n",
        "      quote_plus('pageNo') : page_no,\n",
        "      quote_plus('numOfRows') : num_of_rows,\n",
        "      quote_plus('resultType') : 'json',\n",
        "      quote_plus('ServiceKey') : service_key \n",
        "  })\n",
        "\n",
        "  API_election_code_url = election_base_url + unquote(queryParams)\n",
        "\n",
        "  # Election code load\n",
        "\n",
        "  '''\n",
        "  < election code >\n",
        "  (0)대표선거명               \n",
        "  (1)대통령,(2)국회의원,(3)시도지사,(4)구시군장,(5)시도의원,(6)구시군의회의원\n",
        "  (7)국회의원비례대표,(8)광역의원비례대표,(9)기초의원비례대표,(10)교육의원,(11)교육감\n",
        "  '''\n",
        "\n",
        "  response = urlopen(API_election_code_url)\n",
        "  json_str = response.read()\n",
        "\n",
        "  json_object = json.loads(json_str)\n",
        "\n",
        "  body = [json_object['getCommonSgCodeList']['item']]\n",
        "\n",
        "  election_code_data = pd.json_normalize(json_object['getCommonSgCodeList']['item'])\n",
        "  \n",
        "  return election_code_data"
      ],
      "execution_count": 4,
      "outputs": []
    },
    {
      "cell_type": "markdown",
      "metadata": {
        "id": "R87ppln7UXq1"
      },
      "source": [
        "## Candidate Info dataframe make function"
      ]
    },
    {
      "cell_type": "code",
      "metadata": {
        "id": "VmNqJrVFUa1S"
      },
      "source": [
        "def get_candidate_df(sgId, sgTypecode, num_of_row=1000):\n",
        "  candidate_base_url = 'http://apis.data.go.kr/9760000/PofelcddInfoInqireService/getPofelcddRegistSttusInfoInqire'\n",
        "\n",
        "  queryParams = '?' + urlencode({\n",
        "      quote_plus('numOfRows') : str(num_of_row),        # optional\n",
        "      quote_plus('sgId') : str(sgId),                   # load from election code\n",
        "      quote_plus('sgTypecode') : str(sgTypecode),       # load from election code\n",
        "      quote_plus('sggName') : '',                       # optional\n",
        "      quote_plus('sdName') : '',                        # optional\n",
        "      quote_plus('resultType') : 'json',                # must set JSON\n",
        "      quote_plus('ServiceKey') : service_key\n",
        "  })\n",
        "\n",
        "  API_candidate_url = candidate_base_url + unquote(queryParams)\n",
        "\n",
        "  # candidate info load\n",
        "\n",
        "  response = urlopen(API_candidate_url)\n",
        "  json_str = response.read().decode('utf-8')\n",
        "\n",
        "  json_object = json.loads(json_str)\n",
        "\n",
        "  body = [json_object['getPofelcddRegistSttusInfoInqire']['item']]\n",
        "\n",
        "  candidate_data = pd.json_normalize(json_object['getPofelcddRegistSttusInfoInqire']['item'])\n",
        "\n",
        "  candidate_data.rename(columns={'HUBOID' : 'cnddtId', 'JD_NAME': 'partyName'}, inplace=True)\n",
        "\n",
        "  return candidate_data"
      ],
      "execution_count": 5,
      "outputs": []
    },
    {
      "cell_type": "markdown",
      "metadata": {
        "id": "mgSdgwq1Zwrn"
      },
      "source": [
        "## Elction Promise dataframe make function"
      ]
    },
    {
      "cell_type": "code",
      "metadata": {
        "id": "8bGVl93kZzVp"
      },
      "source": [
        "def get_promise_df(sgId, sgTypecode, hudoId):\n",
        "  # 선거종료 후 데이터가 갱신되는 시점부터는 당선인의 공약 정보만 제공\n",
        "\n",
        "  promise_base_url = 'http://apis.data.go.kr/9760000/ElecPrmsInfoInqireService/getCnddtElecPrmsInfoInqire'\n",
        "\n",
        "  queryParams = '?' + urlencode({\n",
        "      quote_plus('sgId') : str(sgId),                   # load from election code\n",
        "      quote_plus('sgTypecode') : str(sgTypecode),       # load from election code\n",
        "      quote_plus('cnddtId') : str(hudoId),              # parameter name is cnddtId but DB column name is HUBOID\n",
        "      quote_plus('resultType') : 'json',                # must set JSON\n",
        "      quote_plus('ServiceKey') : service_key\n",
        "  })\n",
        "\n",
        "  API_promise_url = promise_base_url + unquote(queryParams)\n",
        "\n",
        "  # promise load\n",
        "\n",
        "  response = urlopen(API_promise_url)\n",
        "  json_str = response.read().decode('utf-8')\n",
        "\n",
        "  json_object = json.loads(json_str)\n",
        "\n",
        "  body = [json_object['getCnddtElecPrmsInfoInqire']['item']]\n",
        "\n",
        "  promise_data = pd.json_normalize(json_object['getCnddtElecPrmsInfoInqire']['item'])\n",
        "\n",
        "  return promise_data"
      ],
      "execution_count": 6,
      "outputs": []
    },
    {
      "cell_type": "markdown",
      "metadata": {
        "id": "UtFN_dsadiud"
      },
      "source": [
        "## Polls Info dataframe make function\n"
      ]
    },
    {
      "cell_type": "markdown",
      "metadata": {
        "id": "FR5QSaGPdp-3"
      },
      "source": [
        "### Pre polls info dataframe make function"
      ]
    },
    {
      "cell_type": "code",
      "metadata": {
        "id": "hCFLOK__bWxl"
      },
      "source": [
        "def get_prepoll_df(sgId, sdName):\n",
        "  prepoll_base_url = 'http://apis.data.go.kr/9760000/PolplcInfoInqireService2/getPrePolplcOtlnmapTrnsportInfoInqire'\n",
        "\n",
        "  queryParams = '?' + urlencode({\n",
        "      quote_plus('sgId') : str(sgId),                   # load from election code\n",
        "      quote_plus('sdName') : quote(sdName),             # must input parameter, query parma is korean, so wrap the quote\n",
        "      quote_plus('resultType') : 'json',                # must set JSON\n",
        "      quote_plus('ServiceKey') : service_key\n",
        "  })\n",
        "\n",
        "  API_prepoll_url = prepoll_base_url + unquote(queryParams)\n",
        "\n",
        "  response = urlopen(API_prepoll_url)\n",
        "  json_str = response.read().decode('utf-8')\n",
        "\n",
        "  json_object = json.loads(json_str)\n",
        "\n",
        "  body = [json_object['getPrePolplcOtlnmapTrnsportInfoInqire']['item']]\n",
        "\n",
        "  prepoll_data = pd.json_normalize(json_object['getPrePolplcOtlnmapTrnsportInfoInqire']['item'])\n",
        "  return prepoll_data"
      ],
      "execution_count": 7,
      "outputs": []
    },
    {
      "cell_type": "markdown",
      "metadata": {
        "id": "bWhwTNKEfn91"
      },
      "source": [
        "### Main polls info dataframe make function"
      ]
    },
    {
      "cell_type": "code",
      "metadata": {
        "id": "fDeV7GKXfrDa"
      },
      "source": [
        "def get_mainpoll_df(sgId, sdName):\n",
        "  poll_base_url = 'http://apis.data.go.kr/9760000/PolplcInfoInqireService2/getPolplcOtlnmapTrnsportInfoInqire'\n",
        "\n",
        "  queryParams = '?' + urlencode({\n",
        "      quote_plus('sgId') : str(sgId),                   # load from election code\n",
        "      quote_plus('sdName') : quote(sdName),             # must input parameter, query parma is korean, so wrap the quote\n",
        "      quote_plus('resultType') : 'json',                # must set JSON\n",
        "      quote_plus('ServiceKey') : service_key\n",
        "  })\n",
        "\n",
        "  API_poll_url = poll_base_url + unquote(queryParams)\n",
        "\n",
        "  response = urlopen(API_poll_url)\n",
        "  json_str = response.read().decode('utf-8')\n",
        "\n",
        "  json_object = json.loads(json_str)\n",
        "\n",
        "  body = [json_object['getPolplcOtlnmapTrnsportInfoInqire']['item']]\n",
        "\n",
        "  poll_data = pd.json_normalize(json_object['getPolplcOtlnmapTrnsportInfoInqire']['item'])\n",
        "  return poll_data"
      ],
      "execution_count": 8,
      "outputs": []
    },
    {
      "cell_type": "markdown",
      "metadata": {
        "id": "mrcaOPIb8ANu"
      },
      "source": [
        "## Politician dataframe make function"
      ]
    },
    {
      "cell_type": "markdown",
      "metadata": {
        "id": "wJyCPlj28jDj"
      },
      "source": [
        "### Current Politician"
      ]
    },
    {
      "cell_type": "code",
      "metadata": {
        "id": "_CwEJwii7_7A"
      },
      "source": [
        "def get_curr_politician_mem(numOfRows=1000):\n",
        "  curr_politician_base_url = 'http://apis.data.go.kr/9710000/NationalAssemblyInfoService/getMemberCurrStateList'\n",
        "\n",
        "  queryParams = '?' + urlencode({\n",
        "      quote_plus('numOfRows') : numOfRows,\n",
        "      quote_plus('resultType') : 'json',   \n",
        "      quote_plus('ServiceKey') : service_key\n",
        "  })\n",
        "\n",
        "  API_curr_politician_url = curr_politician_base_url + unquote(queryParams)\n",
        "\n",
        "  response = urlopen(API_curr_politician_url)\n",
        "  json_str = response.read().decode('utf-8')\n",
        "  json_str = json.dumps(xmltodict.parse(json_str), indent=4)\n",
        "\n",
        "  json_object = json.loads(json_str)\n",
        "\n",
        "  curr_politician_data = pd.json_normalize(json_object['response']['body']['items']['item'])\n",
        "\n",
        "  return curr_politician_data"
      ],
      "execution_count": 9,
      "outputs": []
    },
    {
      "cell_type": "code",
      "metadata": {
        "colab": {
          "base_uri": "https://localhost:8080/",
          "height": 204
        },
        "id": "nD-gmLi5Aos2",
        "outputId": "430a1860-4529-4026-bbe2-d6b4f496cdd9"
      },
      "source": [
        "get_curr_politician_mem().head()"
      ],
      "execution_count": 10,
      "outputs": [
        {
          "output_type": "execute_result",
          "data": {
            "text/html": [
              "<div>\n",
              "<style scoped>\n",
              "    .dataframe tbody tr th:only-of-type {\n",
              "        vertical-align: middle;\n",
              "    }\n",
              "\n",
              "    .dataframe tbody tr th {\n",
              "        vertical-align: top;\n",
              "    }\n",
              "\n",
              "    .dataframe thead th {\n",
              "        text-align: right;\n",
              "    }\n",
              "</style>\n",
              "<table border=\"1\" class=\"dataframe\">\n",
              "  <thead>\n",
              "    <tr style=\"text-align: right;\">\n",
              "      <th></th>\n",
              "      <th>deptCd</th>\n",
              "      <th>empNm</th>\n",
              "      <th>engNm</th>\n",
              "      <th>hjNm</th>\n",
              "      <th>jpgLink</th>\n",
              "      <th>num</th>\n",
              "      <th>origNm</th>\n",
              "      <th>reeleGbnNm</th>\n",
              "    </tr>\n",
              "  </thead>\n",
              "  <tbody>\n",
              "    <tr>\n",
              "      <th>0</th>\n",
              "      <td>9771230</td>\n",
              "      <td>강기윤</td>\n",
              "      <td>KANG GIYUN</td>\n",
              "      <td>姜起潤</td>\n",
              "      <td>http://www.assembly.go.kr/photo/9771230.jpg</td>\n",
              "      <td>2685</td>\n",
              "      <td>경남 창원시성산구</td>\n",
              "      <td>재선</td>\n",
              "    </tr>\n",
              "    <tr>\n",
              "      <th>1</th>\n",
              "      <td>9771142</td>\n",
              "      <td>강대식</td>\n",
              "      <td>KANG DAESIK</td>\n",
              "      <td>姜大植</td>\n",
              "      <td>http://www.assembly.go.kr/photo/9771142.jpg</td>\n",
              "      <td>3050</td>\n",
              "      <td>대구 동구을</td>\n",
              "      <td>초선</td>\n",
              "    </tr>\n",
              "    <tr>\n",
              "      <th>2</th>\n",
              "      <td>9771174</td>\n",
              "      <td>강득구</td>\n",
              "      <td>KANG DEUKGU</td>\n",
              "      <td>姜得求</td>\n",
              "      <td>http://www.assembly.go.kr/photo/9771174.jpg</td>\n",
              "      <td>3085</td>\n",
              "      <td>경기 안양시만안구</td>\n",
              "      <td>초선</td>\n",
              "    </tr>\n",
              "    <tr>\n",
              "      <th>3</th>\n",
              "      <td>9771233</td>\n",
              "      <td>강민국</td>\n",
              "      <td>KANG MINKUK</td>\n",
              "      <td>姜旻局</td>\n",
              "      <td>http://www.assembly.go.kr/photo/9771233.jpg</td>\n",
              "      <td>3091</td>\n",
              "      <td>경남 진주시을</td>\n",
              "      <td>초선</td>\n",
              "    </tr>\n",
              "    <tr>\n",
              "      <th>4</th>\n",
              "      <td>9771283</td>\n",
              "      <td>강민정</td>\n",
              "      <td>KANG MINJUNG</td>\n",
              "      <td>姜旼姃</td>\n",
              "      <td>http://www.assembly.go.kr/photo/9771283.jpg</td>\n",
              "      <td>3019</td>\n",
              "      <td>비례대표</td>\n",
              "      <td>초선</td>\n",
              "    </tr>\n",
              "  </tbody>\n",
              "</table>\n",
              "</div>"
            ],
            "text/plain": [
              "    deptCd empNm         engNm  ...   num     origNm reeleGbnNm\n",
              "0  9771230   강기윤    KANG GIYUN  ...  2685  경남 창원시성산구         재선\n",
              "1  9771142   강대식   KANG DAESIK  ...  3050     대구 동구을         초선\n",
              "2  9771174   강득구   KANG DEUKGU  ...  3085  경기 안양시만안구         초선\n",
              "3  9771233   강민국   KANG MINKUK  ...  3091    경남 진주시을         초선\n",
              "4  9771283   강민정  KANG MINJUNG  ...  3019       비례대표         초선\n",
              "\n",
              "[5 rows x 8 columns]"
            ]
          },
          "metadata": {
            "tags": []
          },
          "execution_count": 10
        }
      ]
    },
    {
      "cell_type": "markdown",
      "metadata": {
        "id": "e9DgU00VBRP2"
      },
      "source": [
        "### Member detail"
      ]
    },
    {
      "cell_type": "code",
      "metadata": {
        "id": "fJoEurC1Bcwx"
      },
      "source": [
        "def get_politician_detail(dept_code, numOfRows=1000):\n",
        "  politician_detail_base_url = 'http://apis.data.go.kr/9710000/NationalAssemblyInfoService/getMemberDetailInfoList'\n",
        "\n",
        "  queryParams = '?' + urlencode({\n",
        "      quote_plus('numOfRows') : numOfRows,\n",
        "      quote_plus('dept_cd') : dept_code,\n",
        "      quote_plus('resultType') : 'json',   \n",
        "      quote_plus('ServiceKey') : service_key\n",
        "  })\n",
        "\n",
        "  API_politician_detail_url = politician_detail_base_url + unquote(queryParams)\n",
        "\n",
        "  response = urlopen(API_politician_detail_url)\n",
        "  json_str = response.read().decode('utf-8')\n",
        "  json_str = json.dumps(xmltodict.parse(json_str), indent=4)\n",
        "\n",
        "  json_object = json.loads(json_str)\n",
        "\n",
        "  politician_detail_data = pd.json_normalize(json_object['response']['body']['item'])\n",
        "\n",
        "  return politician_detail_data"
      ],
      "execution_count": 11,
      "outputs": []
    },
    {
      "cell_type": "code",
      "metadata": {
        "colab": {
          "base_uri": "https://localhost:8080/",
          "height": 131
        },
        "id": "8kPANB4pCSRo",
        "outputId": "67f9d557-b3dd-4792-bafc-a4c25780face"
      },
      "source": [
        "get_politician_detail(9771106)"
      ],
      "execution_count": null,
      "outputs": [
        {
          "output_type": "execute_result",
          "data": {
            "text/html": [
              "<div>\n",
              "<style scoped>\n",
              "    .dataframe tbody tr th:only-of-type {\n",
              "        vertical-align: middle;\n",
              "    }\n",
              "\n",
              "    .dataframe tbody tr th {\n",
              "        vertical-align: top;\n",
              "    }\n",
              "\n",
              "    .dataframe thead th {\n",
              "        text-align: right;\n",
              "    }\n",
              "</style>\n",
              "<table border=\"1\" class=\"dataframe\">\n",
              "  <thead>\n",
              "    <tr style=\"text-align: right;\">\n",
              "      <th></th>\n",
              "      <th>assemEmail</th>\n",
              "      <th>assemTel</th>\n",
              "      <th>bthDate</th>\n",
              "      <th>electionNum</th>\n",
              "      <th>empNm</th>\n",
              "      <th>engNm</th>\n",
              "      <th>hbbyCd</th>\n",
              "      <th>hjNm</th>\n",
              "      <th>memTitle</th>\n",
              "      <th>origNm</th>\n",
              "      <th>polyNm</th>\n",
              "      <th>reeleGbnNm</th>\n",
              "      <th>secretary</th>\n",
              "      <th>secretary2</th>\n",
              "      <th>shrtNm</th>\n",
              "      <th>staff</th>\n",
              "    </tr>\n",
              "  </thead>\n",
              "  <tbody>\n",
              "    <tr>\n",
              "      <th>0</th>\n",
              "      <td>nyleetogether@gmail.com</td>\n",
              "      <td>02-784-3866</td>\n",
              "      <td>19521220</td>\n",
              "      <td>대</td>\n",
              "      <td>이낙연</td>\n",
              "      <td>LEE NAKYON</td>\n",
              "      <td>독서</td>\n",
              "      <td>李洛淵</td>\n",
              "      <td>더불어민주당 당대표 (2020.08~현재)\\r\\n제21대 서울 종로구 국회의원 (2020.04~현재)\\r\\n더불어민주당 코로나19 국난극복위원장 (2020.03~2020.0...</td>\n",
              "      <td>서울 종로구</td>\n",
              "      <td>더불어민주당</td>\n",
              "      <td>5선제21대</td>\n",
              "      <td>김대경, 하정철</td>\n",
              "      <td>김효섭, 염시진, 이상민, 장윤수</td>\n",
              "      <td>외교통일위원회</td>\n",
              "      <td>노창훈, 이제이</td>\n",
              "    </tr>\n",
              "  </tbody>\n",
              "</table>\n",
              "</div>"
            ],
            "text/plain": [
              "                assemEmail     assemTel  ...   shrtNm     staff\n",
              "0  nyleetogether@gmail.com  02-784-3866  ...  외교통일위원회  노창훈, 이제이\n",
              "\n",
              "[1 rows x 16 columns]"
            ]
          },
          "metadata": {
            "tags": []
          },
          "execution_count": 23
        }
      ]
    },
    {
      "cell_type": "markdown",
      "metadata": {
        "id": "ZaQndK6PRmzQ"
      },
      "source": [
        "## Winner info dataframe"
      ]
    },
    {
      "cell_type": "code",
      "metadata": {
        "id": "9Vx1gxr3RrGI"
      },
      "source": [
        "def get_winner_df(sgId, sgTypecode, num_of_row=1000):\n",
        "  winner_base_url = 'http://apis.data.go.kr/9760000/WinnerInfoInqireService2/getWinnerInfoInqire'\n",
        "\n",
        "  queryParams = '?' + urlencode({\n",
        "      quote_plus('numOfRows') : str(num_of_row),        # optional\n",
        "      quote_plus('sgId') : str(sgId),                   # load from election code\n",
        "      quote_plus('sgTypecode') : str(sgTypecode),       # load from election code\n",
        "      quote_plus('sggName') : '',                       # optional\n",
        "      quote_plus('sdName') : '',                        # optional\n",
        "      quote_plus('resultType') : 'json',                # must set JSON\n",
        "      quote_plus('ServiceKey') : service_key\n",
        "  })\n",
        "\n",
        "  API_winner_url = winner_base_url + unquote(queryParams)\n",
        "\n",
        "  # candidate info load\n",
        "\n",
        "  response = urlopen(API_winner_url)\n",
        "  json_str = response.read().decode('utf-8')\n",
        "\n",
        "  json_object = json.loads(json_str)\n",
        "\n",
        "  body = [json_object['getWinnerInfoInqire']['item']]\n",
        "\n",
        "  winner_data = pd.json_normalize(json_object['getWinnerInfoInqire']['item'])\n",
        "\n",
        "  return winner_data"
      ],
      "execution_count": 12,
      "outputs": []
    },
    {
      "cell_type": "code",
      "metadata": {
        "colab": {
          "base_uri": "https://localhost:8080/",
          "height": 1000
        },
        "id": "jp7I9Rf-SVfb",
        "outputId": "ce2c7fb2-8949-4d90-8cfc-9e8a1e6d4e34"
      },
      "source": [
        "get_winner_df(20160413, 4)"
      ],
      "execution_count": null,
      "outputs": [
        {
          "output_type": "execute_result",
          "data": {
            "text/html": [
              "<div>\n",
              "<style scoped>\n",
              "    .dataframe tbody tr th:only-of-type {\n",
              "        vertical-align: middle;\n",
              "    }\n",
              "\n",
              "    .dataframe tbody tr th {\n",
              "        vertical-align: top;\n",
              "    }\n",
              "\n",
              "    .dataframe thead th {\n",
              "        text-align: right;\n",
              "    }\n",
              "</style>\n",
              "<table border=\"1\" class=\"dataframe\">\n",
              "  <thead>\n",
              "    <tr style=\"text-align: right;\">\n",
              "      <th></th>\n",
              "      <th>NUM</th>\n",
              "      <th>SG_ID</th>\n",
              "      <th>SG_TYPECODE</th>\n",
              "      <th>HUBOID</th>\n",
              "      <th>SGG_NAME</th>\n",
              "      <th>SD_NAME</th>\n",
              "      <th>WIW_NAME</th>\n",
              "      <th>GIHO</th>\n",
              "      <th>GIHO_SANGSE</th>\n",
              "      <th>JD_NAME</th>\n",
              "      <th>NAME</th>\n",
              "      <th>HANJA_NAME</th>\n",
              "      <th>GENDER</th>\n",
              "      <th>BIRTHDAY</th>\n",
              "      <th>AGE</th>\n",
              "      <th>ADDR</th>\n",
              "      <th>JOB_ID</th>\n",
              "      <th>JOB</th>\n",
              "      <th>EDU_ID</th>\n",
              "      <th>EDU</th>\n",
              "      <th>CAREER1</th>\n",
              "      <th>CAREER2</th>\n",
              "      <th>DUGSU</th>\n",
              "      <th>DUGYUL</th>\n",
              "    </tr>\n",
              "  </thead>\n",
              "  <tbody>\n",
              "    <tr>\n",
              "      <th>0</th>\n",
              "      <td>1</td>\n",
              "      <td>20160413</td>\n",
              "      <td>4</td>\n",
              "      <td>100119150</td>\n",
              "      <td>달서구</td>\n",
              "      <td>대구광역시</td>\n",
              "      <td>달서구</td>\n",
              "      <td>1</td>\n",
              "      <td></td>\n",
              "      <td>새누리당</td>\n",
              "      <td>이태훈</td>\n",
              "      <td>李泰勳</td>\n",
              "      <td>남</td>\n",
              "      <td>19561020</td>\n",
              "      <td>59</td>\n",
              "      <td></td>\n",
              "      <td>75</td>\n",
              "      <td>정당인</td>\n",
              "      <td>221</td>\n",
              "      <td>영남대학교 대학원 졸업 (행정학 석사)</td>\n",
              "      <td>(전) 달서구 부구청장</td>\n",
              "      <td>(전) 대구광역시 문화체육국장</td>\n",
              "      <td>147433</td>\n",
              "      <td>60.79</td>\n",
              "    </tr>\n",
              "    <tr>\n",
              "      <th>1</th>\n",
              "      <td>2</td>\n",
              "      <td>20160413</td>\n",
              "      <td>4</td>\n",
              "      <td>100119965</td>\n",
              "      <td>동구</td>\n",
              "      <td>광주광역시</td>\n",
              "      <td>동구</td>\n",
              "      <td>3</td>\n",
              "      <td></td>\n",
              "      <td>국민의당</td>\n",
              "      <td>김성환</td>\n",
              "      <td>金成宦</td>\n",
              "      <td>남</td>\n",
              "      <td>19611011</td>\n",
              "      <td>54</td>\n",
              "      <td></td>\n",
              "      <td>75</td>\n",
              "      <td>정당인</td>\n",
              "      <td>221</td>\n",
              "      <td>영국 쉐필드대학원 졸업(정치학 박사, 2000. 1. 1. ~ 2008. 4. 9.)</td>\n",
              "      <td>(전)국무총리실 국정과제관리관</td>\n",
              "      <td>(전)청와대 경제수석실 선임행정관</td>\n",
              "      <td>27191</td>\n",
              "      <td>52.29</td>\n",
              "    </tr>\n",
              "    <tr>\n",
              "      <th>2</th>\n",
              "      <td>3</td>\n",
              "      <td>20160413</td>\n",
              "      <td>4</td>\n",
              "      <td>100119167</td>\n",
              "      <td>양주시</td>\n",
              "      <td>경기도</td>\n",
              "      <td>양주시</td>\n",
              "      <td>2</td>\n",
              "      <td></td>\n",
              "      <td>더불어민주당</td>\n",
              "      <td>이성호</td>\n",
              "      <td>李成浩</td>\n",
              "      <td>남</td>\n",
              "      <td>19570716</td>\n",
              "      <td>58</td>\n",
              "      <td></td>\n",
              "      <td>75</td>\n",
              "      <td>정당인</td>\n",
              "      <td>221</td>\n",
              "      <td>고려대학교 정책대학원 졸업(행정학석사)</td>\n",
              "      <td>(현)국회의원 정성호 정책특보단장</td>\n",
              "      <td>(현)더불어민주당 경기도당민생경제특별위원회 위원장</td>\n",
              "      <td>46009</td>\n",
              "      <td>51.91</td>\n",
              "    </tr>\n",
              "    <tr>\n",
              "      <th>3</th>\n",
              "      <td>4</td>\n",
              "      <td>20160413</td>\n",
              "      <td>4</td>\n",
              "      <td>100119777</td>\n",
              "      <td>구리시</td>\n",
              "      <td>경기도</td>\n",
              "      <td>구리시</td>\n",
              "      <td>1</td>\n",
              "      <td></td>\n",
              "      <td>새누리당</td>\n",
              "      <td>백경현</td>\n",
              "      <td>白慶鉉</td>\n",
              "      <td>남</td>\n",
              "      <td>19580621</td>\n",
              "      <td>57</td>\n",
              "      <td></td>\n",
              "      <td>75</td>\n",
              "      <td>정당인</td>\n",
              "      <td>221</td>\n",
              "      <td>연세대학교 행정대학원 졸업(행정학석사)</td>\n",
              "      <td>(전)구리시 행정지원국장</td>\n",
              "      <td>(전)구리시 주민지원국장</td>\n",
              "      <td>37490</td>\n",
              "      <td>42.89</td>\n",
              "    </tr>\n",
              "    <tr>\n",
              "      <th>4</th>\n",
              "      <td>5</td>\n",
              "      <td>20160413</td>\n",
              "      <td>4</td>\n",
              "      <td>100119659</td>\n",
              "      <td>진천군</td>\n",
              "      <td>충청북도</td>\n",
              "      <td>진천군</td>\n",
              "      <td>2</td>\n",
              "      <td></td>\n",
              "      <td>더불어민주당</td>\n",
              "      <td>송기섭</td>\n",
              "      <td>宋起燮</td>\n",
              "      <td>남</td>\n",
              "      <td>19560818</td>\n",
              "      <td>59</td>\n",
              "      <td></td>\n",
              "      <td>75</td>\n",
              "      <td>정당인</td>\n",
              "      <td>221</td>\n",
              "      <td>아주대학교 대학원 건설교통공학과 졸업(공학박사)</td>\n",
              "      <td>(전)행정중심복합도시건설청장</td>\n",
              "      <td>(전)대전지방국토관리청장</td>\n",
              "      <td>18453</td>\n",
              "      <td>53.63</td>\n",
              "    </tr>\n",
              "    <tr>\n",
              "      <th>5</th>\n",
              "      <td>6</td>\n",
              "      <td>20160413</td>\n",
              "      <td>4</td>\n",
              "      <td>100119160</td>\n",
              "      <td>익산시</td>\n",
              "      <td>전라북도</td>\n",
              "      <td>익산시</td>\n",
              "      <td>3</td>\n",
              "      <td></td>\n",
              "      <td>국민의당</td>\n",
              "      <td>정헌율</td>\n",
              "      <td>鄭憲律</td>\n",
              "      <td>남</td>\n",
              "      <td>19580325</td>\n",
              "      <td>58</td>\n",
              "      <td></td>\n",
              "      <td>75</td>\n",
              "      <td>정치인</td>\n",
              "      <td>221</td>\n",
              "      <td>서울시립대학교 일반대학원 졸업(행정학박사)</td>\n",
              "      <td>(전)전라북도 행정부지사</td>\n",
              "      <td>(전)국민권익위원회 상임위원</td>\n",
              "      <td>75383</td>\n",
              "      <td>52.1</td>\n",
              "    </tr>\n",
              "    <tr>\n",
              "      <th>6</th>\n",
              "      <td>7</td>\n",
              "      <td>20160413</td>\n",
              "      <td>4</td>\n",
              "      <td>100119478</td>\n",
              "      <td>김해시</td>\n",
              "      <td>경상남도</td>\n",
              "      <td>김해시</td>\n",
              "      <td>2</td>\n",
              "      <td></td>\n",
              "      <td>더불어민주당</td>\n",
              "      <td>허성곤</td>\n",
              "      <td>許成坤</td>\n",
              "      <td>남</td>\n",
              "      <td>19550709</td>\n",
              "      <td>60</td>\n",
              "      <td></td>\n",
              "      <td>225</td>\n",
              "      <td>정당인</td>\n",
              "      <td>221</td>\n",
              "      <td>동아대 대학원 도시조경학과 졸업(도시공학박사)</td>\n",
              "      <td>(전)부산진해경제자유구역청장</td>\n",
              "      <td>(전)경상남도 기획조정실장</td>\n",
              "      <td>116932</td>\n",
              "      <td>50.2</td>\n",
              "    </tr>\n",
              "    <tr>\n",
              "      <th>7</th>\n",
              "      <td>8</td>\n",
              "      <td>20160413</td>\n",
              "      <td>4</td>\n",
              "      <td>100119658</td>\n",
              "      <td>거창군</td>\n",
              "      <td>경상남도</td>\n",
              "      <td>거창군</td>\n",
              "      <td>6</td>\n",
              "      <td></td>\n",
              "      <td>무소속</td>\n",
              "      <td>양동인</td>\n",
              "      <td>梁東仁</td>\n",
              "      <td>남</td>\n",
              "      <td>19530603</td>\n",
              "      <td>62</td>\n",
              "      <td></td>\n",
              "      <td>224</td>\n",
              "      <td>무직</td>\n",
              "      <td>68</td>\n",
              "      <td>부산대학교 법정대학 행정학과 졸업</td>\n",
              "      <td>(전)제39대 거창군수</td>\n",
              "      <td>(전)제53대 거창경찰서장</td>\n",
              "      <td>15964</td>\n",
              "      <td>45.96</td>\n",
              "    </tr>\n",
              "  </tbody>\n",
              "</table>\n",
              "</div>"
            ],
            "text/plain": [
              "  NUM     SG_ID SG_TYPECODE  ...                      CAREER2   DUGSU DUGYUL\n",
              "0   1  20160413           4  ...             (전) 대구광역시 문화체육국장  147433  60.79\n",
              "1   2  20160413           4  ...           (전)청와대 경제수석실 선임행정관   27191  52.29\n",
              "2   3  20160413           4  ...  (현)더불어민주당 경기도당민생경제특별위원회 위원장   46009  51.91\n",
              "3   4  20160413           4  ...                (전)구리시 주민지원국장   37490  42.89\n",
              "4   5  20160413           4  ...                (전)대전지방국토관리청장   18453  53.63\n",
              "5   6  20160413           4  ...              (전)국민권익위원회 상임위원   75383   52.1\n",
              "6   7  20160413           4  ...               (전)경상남도 기획조정실장  116932   50.2\n",
              "7   8  20160413           4  ...               (전)제53대 거창경찰서장   15964  45.96\n",
              "\n",
              "[8 rows x 24 columns]"
            ]
          },
          "metadata": {
            "tags": []
          },
          "execution_count": 8
        }
      ]
    },
    {
      "cell_type": "markdown",
      "metadata": {
        "id": "nj4Li0ZxSc0O"
      },
      "source": [
        "# DataFrame load test"
      ]
    },
    {
      "cell_type": "markdown",
      "metadata": {
        "id": "rSmGblBdsmG-"
      },
      "source": [
        "## Election code load"
      ]
    },
    {
      "cell_type": "code",
      "metadata": {
        "colab": {
          "base_uri": "https://localhost:8080/",
          "height": 204
        },
        "id": "9Me3JFPZst9k",
        "outputId": "fcf8d0dc-4b01-4019-fb7a-c86b3b73456f"
      },
      "source": [
        "get_election_df().head()"
      ],
      "execution_count": null,
      "outputs": [
        {
          "output_type": "execute_result",
          "data": {
            "text/html": [
              "<div>\n",
              "<style scoped>\n",
              "    .dataframe tbody tr th:only-of-type {\n",
              "        vertical-align: middle;\n",
              "    }\n",
              "\n",
              "    .dataframe tbody tr th {\n",
              "        vertical-align: top;\n",
              "    }\n",
              "\n",
              "    .dataframe thead th {\n",
              "        text-align: right;\n",
              "    }\n",
              "</style>\n",
              "<table border=\"1\" class=\"dataframe\">\n",
              "  <thead>\n",
              "    <tr style=\"text-align: right;\">\n",
              "      <th></th>\n",
              "      <th>NUM</th>\n",
              "      <th>SG_ID</th>\n",
              "      <th>SG_NAME</th>\n",
              "      <th>SG_TYPECODE</th>\n",
              "      <th>SG_VOTEDATE</th>\n",
              "    </tr>\n",
              "  </thead>\n",
              "  <tbody>\n",
              "    <tr>\n",
              "      <th>0</th>\n",
              "      <td>1</td>\n",
              "      <td>20160413</td>\n",
              "      <td>제20대 국회의원선거</td>\n",
              "      <td>0</td>\n",
              "      <td>20160413</td>\n",
              "    </tr>\n",
              "    <tr>\n",
              "      <th>1</th>\n",
              "      <td>2</td>\n",
              "      <td>20160413</td>\n",
              "      <td>국회의원선거</td>\n",
              "      <td>2</td>\n",
              "      <td>20160413</td>\n",
              "    </tr>\n",
              "    <tr>\n",
              "      <th>2</th>\n",
              "      <td>3</td>\n",
              "      <td>20160413</td>\n",
              "      <td>구·시·군의장선거</td>\n",
              "      <td>4</td>\n",
              "      <td>20160413</td>\n",
              "    </tr>\n",
              "    <tr>\n",
              "      <th>3</th>\n",
              "      <td>4</td>\n",
              "      <td>20160413</td>\n",
              "      <td>시·도의회의원선거</td>\n",
              "      <td>5</td>\n",
              "      <td>20160413</td>\n",
              "    </tr>\n",
              "    <tr>\n",
              "      <th>4</th>\n",
              "      <td>5</td>\n",
              "      <td>20160413</td>\n",
              "      <td>구·시·군의회의원선거</td>\n",
              "      <td>6</td>\n",
              "      <td>20160413</td>\n",
              "    </tr>\n",
              "  </tbody>\n",
              "</table>\n",
              "</div>"
            ],
            "text/plain": [
              "  NUM     SG_ID      SG_NAME SG_TYPECODE SG_VOTEDATE\n",
              "0   1  20160413  제20대 국회의원선거           0    20160413\n",
              "1   2  20160413       국회의원선거           2    20160413\n",
              "2   3  20160413    구·시·군의장선거           4    20160413\n",
              "3   4  20160413    시·도의회의원선거           5    20160413\n",
              "4   5  20160413  구·시·군의회의원선거           6    20160413"
            ]
          },
          "metadata": {
            "tags": []
          },
          "execution_count": 24
        }
      ]
    },
    {
      "cell_type": "markdown",
      "metadata": {
        "id": "kA7SHPT7svFb"
      },
      "source": [
        "## Cadidate info load"
      ]
    },
    {
      "cell_type": "code",
      "metadata": {
        "colab": {
          "base_uri": "https://localhost:8080/"
        },
        "id": "zFiAeIcHsxsu",
        "outputId": "5c8c41b8-cdfc-44c8-ee8d-c6982e6be89b"
      },
      "source": [
        "get_candidate_df(20160413, 2)['STATUS'].unique()"
      ],
      "execution_count": null,
      "outputs": [
        {
          "output_type": "execute_result",
          "data": {
            "text/plain": [
              "array(['등록', '등록무효', '사퇴'], dtype=object)"
            ]
          },
          "metadata": {
            "tags": []
          },
          "execution_count": 55
        }
      ]
    },
    {
      "cell_type": "markdown",
      "metadata": {
        "id": "hXaHifpRbLZL"
      },
      "source": [
        "## Promise load"
      ]
    },
    {
      "cell_type": "code",
      "metadata": {
        "colab": {
          "base_uri": "https://localhost:8080/",
          "height": 304
        },
        "id": "2KMcyop2slIr",
        "outputId": "6662711b-d107-4508-8885-66aec7b9f105"
      },
      "source": [
        "# 당선인이 나온 후엔 당선인 공약만 확인 가능\n",
        "data = get_promise_df(20210407, 3, 100138272)\n",
        "data"
      ],
      "execution_count": null,
      "outputs": [
        {
          "output_type": "execute_result",
          "data": {
            "text/html": [
              "<div>\n",
              "<style scoped>\n",
              "    .dataframe tbody tr th:only-of-type {\n",
              "        vertical-align: middle;\n",
              "    }\n",
              "\n",
              "    .dataframe tbody tr th {\n",
              "        vertical-align: top;\n",
              "    }\n",
              "\n",
              "    .dataframe thead th {\n",
              "        text-align: right;\n",
              "    }\n",
              "</style>\n",
              "<table border=\"1\" class=\"dataframe\">\n",
              "  <thead>\n",
              "    <tr style=\"text-align: right;\">\n",
              "      <th></th>\n",
              "      <th>num</th>\n",
              "      <th>sgId</th>\n",
              "      <th>sgTypecode</th>\n",
              "      <th>cnddtId</th>\n",
              "      <th>sggName</th>\n",
              "      <th>sidoName</th>\n",
              "      <th>wiwName</th>\n",
              "      <th>partyName</th>\n",
              "      <th>krName</th>\n",
              "      <th>cnName</th>\n",
              "      <th>prmsCnt</th>\n",
              "      <th>prmsOrd1</th>\n",
              "      <th>prmsRealmName1</th>\n",
              "      <th>prmsTitle1</th>\n",
              "      <th>prmmCont1</th>\n",
              "      <th>prmsOrd2</th>\n",
              "      <th>prmsRealmName2</th>\n",
              "      <th>prmsTitle2</th>\n",
              "      <th>prmmCont2</th>\n",
              "      <th>prmsOrd3</th>\n",
              "      <th>prmsRealmName3</th>\n",
              "      <th>prmsTitle3</th>\n",
              "      <th>prmmCont3</th>\n",
              "      <th>prmsOrd4</th>\n",
              "      <th>prmsRealmName4</th>\n",
              "      <th>prmsTitle4</th>\n",
              "      <th>prmmCont4</th>\n",
              "      <th>prmsOrd5</th>\n",
              "      <th>prmsRealmName5</th>\n",
              "      <th>prmsTitle5</th>\n",
              "      <th>prmmCont5</th>\n",
              "      <th>prmsOrd6</th>\n",
              "      <th>prmsRealmName6</th>\n",
              "      <th>prmsTitle6</th>\n",
              "      <th>prmmCont6</th>\n",
              "      <th>prmsOrd7</th>\n",
              "      <th>prmsRealmName7</th>\n",
              "      <th>prmsTitle7</th>\n",
              "      <th>prmmCont7</th>\n",
              "      <th>prmsOrd8</th>\n",
              "      <th>prmsRealmName8</th>\n",
              "      <th>prmsTitle8</th>\n",
              "      <th>prmmCont8</th>\n",
              "      <th>prmsOrd9</th>\n",
              "      <th>prmsRealmName9</th>\n",
              "      <th>prmsTitle9</th>\n",
              "      <th>prmmCont9</th>\n",
              "      <th>prmsOrd10</th>\n",
              "      <th>prmsRealmName10</th>\n",
              "      <th>prmsTitle10</th>\n",
              "      <th>prmmCont10</th>\n",
              "    </tr>\n",
              "  </thead>\n",
              "  <tbody>\n",
              "    <tr>\n",
              "      <th>0</th>\n",
              "      <td>1</td>\n",
              "      <td>20210407</td>\n",
              "      <td>3</td>\n",
              "      <td>100138272</td>\n",
              "      <td>서울특별시</td>\n",
              "      <td>서울특별시</td>\n",
              "      <td></td>\n",
              "      <td>국민의힘</td>\n",
              "      <td>오세훈</td>\n",
              "      <td>吳世勳</td>\n",
              "      <td>5</td>\n",
              "      <td>1</td>\n",
              "      <td></td>\n",
              "      <td>스피드 주택공급</td>\n",
              "      <td>□ 목 표\\n  ○ 주택공급 활성화로 부동산 시장 안정화\\n \\n□ 이행방법\\n  ○ 1년내 서울시 도시계획규제 혁파 \\n    - 서울시 용적률 규제완화(주거지역 용적률 ...</td>\n",
              "      <td>2</td>\n",
              "      <td></td>\n",
              "      <td>스피드 교통</td>\n",
              "      <td>□  목 표\\n  ○ 교통소외지역 연결 및 편의증대\\n   \\n□  이행방법\\n  ○ 1년내 시민불편공사 완료\\n    - 다리공사 국내 최장기록(11년4개월) 달성한 월드...</td>\n",
              "      <td>3</td>\n",
              "      <td></td>\n",
              "      <td>균형발전 서울</td>\n",
              "      <td>□  목 표\\n  ○ 동북권, 서남권, 서북권 등 권역별 일자리, 상업, 교통, 교육 등 핵심시설을 유치하여 지역균형발전 달성 \\n \\n□  이행방법\\n  ○  서북권: 신...</td>\n",
              "      <td>4</td>\n",
              "      <td></td>\n",
              "      <td>1인가구 안심특별대책본부 설치</td>\n",
              "      <td>□  목 표\\n  ○  안전, 질병, 빈곤(저소득), 외로움(우울), 주거 등 1인가구 5대 불안해소\\n    \\n□  이행방법\\n  ○ 시장 직속 임시조직 : 조례 개정,...</td>\n",
              "      <td>5</td>\n",
              "      <td></td>\n",
              "      <td>청춘이 밥 먹여준다!</td>\n",
              "      <td>□  목 표\\n  ○ 취업교육, 취업과 창업, 자산형성, 내집마련으로 이어지는 실질적이고 전방위적인 터널탈출 프로젝트\\n \\n□  이행방법\\n  ○ 4차산업형 청년 취업사관...</td>\n",
              "      <td></td>\n",
              "      <td></td>\n",
              "      <td></td>\n",
              "      <td></td>\n",
              "      <td></td>\n",
              "      <td></td>\n",
              "      <td></td>\n",
              "      <td></td>\n",
              "      <td></td>\n",
              "      <td></td>\n",
              "      <td></td>\n",
              "      <td></td>\n",
              "      <td></td>\n",
              "      <td></td>\n",
              "      <td></td>\n",
              "      <td></td>\n",
              "      <td></td>\n",
              "      <td></td>\n",
              "      <td></td>\n",
              "      <td></td>\n",
              "    </tr>\n",
              "  </tbody>\n",
              "</table>\n",
              "</div>"
            ],
            "text/plain": [
              "  num      sgId sgTypecode  ... prmsRealmName10 prmsTitle10 prmmCont10\n",
              "0   1  20210407          3  ...                                       \n",
              "\n",
              "[1 rows x 51 columns]"
            ]
          },
          "metadata": {
            "tags": []
          },
          "execution_count": 27
        }
      ]
    },
    {
      "cell_type": "markdown",
      "metadata": {
        "id": "WYaI_AsreC6S"
      },
      "source": [
        "## Poll info load"
      ]
    },
    {
      "cell_type": "markdown",
      "metadata": {
        "id": "DlJd83g1eHnc"
      },
      "source": [
        "### Pre poll info load"
      ]
    },
    {
      "cell_type": "code",
      "metadata": {
        "colab": {
          "base_uri": "https://localhost:8080/",
          "height": 172
        },
        "id": "s66klLK4syWc",
        "outputId": "2b058fbb-8f92-47ff-8247-49f5293b1fa9"
      },
      "source": [
        "get_prepoll_df(20210407, '서울특별시').head()"
      ],
      "execution_count": null,
      "outputs": [
        {
          "output_type": "error",
          "ename": "NameError",
          "evalue": "ignored",
          "traceback": [
            "\u001b[0;31m---------------------------------------------------------------------------\u001b[0m",
            "\u001b[0;31mNameError\u001b[0m                                 Traceback (most recent call last)",
            "\u001b[0;32m<ipython-input-4-92dab7a596f1>\u001b[0m in \u001b[0;36m<module>\u001b[0;34m()\u001b[0m\n\u001b[0;32m----> 1\u001b[0;31m \u001b[0mget_prepoll_df\u001b[0m\u001b[0;34m(\u001b[0m\u001b[0;36m20210407\u001b[0m\u001b[0;34m,\u001b[0m \u001b[0;34m'서울특별시'\u001b[0m\u001b[0;34m)\u001b[0m\u001b[0;34m.\u001b[0m\u001b[0mhead\u001b[0m\u001b[0;34m(\u001b[0m\u001b[0;34m)\u001b[0m\u001b[0;34m\u001b[0m\u001b[0;34m\u001b[0m\u001b[0m\n\u001b[0m",
            "\u001b[0;31mNameError\u001b[0m: name 'get_prepoll_df' is not defined"
          ]
        }
      ]
    },
    {
      "cell_type": "markdown",
      "metadata": {
        "id": "EbTMggTYf1ai"
      },
      "source": [
        "### Main poll info load"
      ]
    },
    {
      "cell_type": "code",
      "metadata": {
        "colab": {
          "base_uri": "https://localhost:8080/",
          "height": 204
        },
        "id": "xLQivWw6sy7y",
        "outputId": "236c3f7d-caba-4f64-97fc-1d3e99b246e0"
      },
      "source": [
        "get_mainpoll_df(20210407, '서울특별시').head()"
      ],
      "execution_count": null,
      "outputs": [
        {
          "output_type": "execute_result",
          "data": {
            "text/html": [
              "<div>\n",
              "<style scoped>\n",
              "    .dataframe tbody tr th:only-of-type {\n",
              "        vertical-align: middle;\n",
              "    }\n",
              "\n",
              "    .dataframe tbody tr th {\n",
              "        vertical-align: top;\n",
              "    }\n",
              "\n",
              "    .dataframe thead th {\n",
              "        text-align: right;\n",
              "    }\n",
              "</style>\n",
              "<table border=\"1\" class=\"dataframe\">\n",
              "  <thead>\n",
              "    <tr style=\"text-align: right;\">\n",
              "      <th></th>\n",
              "      <th>NUM</th>\n",
              "      <th>SG_ID</th>\n",
              "      <th>PS_NAME</th>\n",
              "      <th>SD_NAME</th>\n",
              "      <th>WIW_NAME</th>\n",
              "      <th>EMD_NAME</th>\n",
              "      <th>PLACE_NAME</th>\n",
              "      <th>ADDR</th>\n",
              "      <th>FLOOR</th>\n",
              "    </tr>\n",
              "  </thead>\n",
              "  <tbody>\n",
              "    <tr>\n",
              "      <th>0</th>\n",
              "      <td>1</td>\n",
              "      <td>20210407</td>\n",
              "      <td>청룡동제1투</td>\n",
              "      <td>서울특별시</td>\n",
              "      <td>관악구</td>\n",
              "      <td>청룡동</td>\n",
              "      <td>봉림중학교(1층, 무용실)</td>\n",
              "      <td>서울특별시 관악구 장군봉길 72 (봉천동)</td>\n",
              "      <td>1층</td>\n",
              "    </tr>\n",
              "    <tr>\n",
              "      <th>1</th>\n",
              "      <td>2</td>\n",
              "      <td>20210407</td>\n",
              "      <td>청림동제1투</td>\n",
              "      <td>서울특별시</td>\n",
              "      <td>관악구</td>\n",
              "      <td>청림동</td>\n",
              "      <td>청림동주민센터(1층, 주차장)</td>\n",
              "      <td>서울특별시 관악구 관악로40길 39 (봉천동)</td>\n",
              "      <td>1층</td>\n",
              "    </tr>\n",
              "    <tr>\n",
              "      <th>2</th>\n",
              "      <td>3</td>\n",
              "      <td>20210407</td>\n",
              "      <td>청운효자동제1투</td>\n",
              "      <td>서울특별시</td>\n",
              "      <td>종로구</td>\n",
              "      <td>청운효자동</td>\n",
              "      <td>청운초등학교(2층, 체육관)</td>\n",
              "      <td>서울특별시 종로구 자하문로 105 (청운동)</td>\n",
              "      <td>2층</td>\n",
              "    </tr>\n",
              "    <tr>\n",
              "      <th>3</th>\n",
              "      <td>4</td>\n",
              "      <td>20210407</td>\n",
              "      <td>청파동제1투</td>\n",
              "      <td>서울특별시</td>\n",
              "      <td>용산구</td>\n",
              "      <td>청파동</td>\n",
              "      <td>청파도서관·청파동자치회관 별관(3층, 대강당)</td>\n",
              "      <td>서울특별시 용산구 청파로93길 27 (서계동)</td>\n",
              "      <td>3층이상</td>\n",
              "    </tr>\n",
              "    <tr>\n",
              "      <th>4</th>\n",
              "      <td>5</td>\n",
              "      <td>20210407</td>\n",
              "      <td>충현동제1투</td>\n",
              "      <td>서울특별시</td>\n",
              "      <td>서대문구</td>\n",
              "      <td>충현동</td>\n",
              "      <td>충현동주민센터(2층, 대회의실)</td>\n",
              "      <td>서울특별시 서대문구 북아현로22길 38 (북아현동)</td>\n",
              "      <td>2층</td>\n",
              "    </tr>\n",
              "  </tbody>\n",
              "</table>\n",
              "</div>"
            ],
            "text/plain": [
              "  NUM     SG_ID  ...                          ADDR FLOOR\n",
              "0   1  20210407  ...       서울특별시 관악구 장군봉길 72 (봉천동)    1층\n",
              "1   2  20210407  ...     서울특별시 관악구 관악로40길 39 (봉천동)    1층\n",
              "2   3  20210407  ...      서울특별시 종로구 자하문로 105 (청운동)    2층\n",
              "3   4  20210407  ...     서울특별시 용산구 청파로93길 27 (서계동)  3층이상\n",
              "4   5  20210407  ...  서울특별시 서대문구 북아현로22길 38 (북아현동)    2층\n",
              "\n",
              "[5 rows x 9 columns]"
            ]
          },
          "metadata": {
            "tags": []
          },
          "execution_count": 29
        }
      ]
    },
    {
      "cell_type": "markdown",
      "metadata": {
        "id": "nO-tL7UKgWVb"
      },
      "source": [
        "# Data Preprocessing"
      ]
    },
    {
      "cell_type": "markdown",
      "metadata": {
        "id": "_JJOE5dcgbw3"
      },
      "source": [
        "## election_code data preprocessing"
      ]
    },
    {
      "cell_type": "code",
      "metadata": {
        "id": "Ot2m8EDOpru9"
      },
      "source": [
        "def election_code_preprocessing():\n",
        "  data = get_election_df()\n",
        "  data = data.drop('NUM', axis=1)\n",
        "  data.columns = ['sgId', 'sgName', 'sgTypecode', 'sgVotedate']\n",
        "  election_code = data\n",
        "  election_code = election_code.astype({'sgId':int, 'sgTypecode':int, 'sgName':str})\n",
        "  election_code.set_index('sgId', inplace=True)\n",
        "\n",
        "  return election_code"
      ],
      "execution_count": 13,
      "outputs": []
    },
    {
      "cell_type": "code",
      "metadata": {
        "id": "qwkt7b_XnxTJ"
      },
      "source": [
        "election_code = election_code_preprocessing()"
      ],
      "execution_count": 14,
      "outputs": []
    },
    {
      "cell_type": "code",
      "metadata": {
        "colab": {
          "base_uri": "https://localhost:8080/",
          "height": 235
        },
        "id": "37fjjpUHov1y",
        "outputId": "e7bb1773-95fb-4767-a239-901ab563e4ae"
      },
      "source": [
        "election_code.head()"
      ],
      "execution_count": null,
      "outputs": [
        {
          "output_type": "execute_result",
          "data": {
            "text/html": [
              "<div>\n",
              "<style scoped>\n",
              "    .dataframe tbody tr th:only-of-type {\n",
              "        vertical-align: middle;\n",
              "    }\n",
              "\n",
              "    .dataframe tbody tr th {\n",
              "        vertical-align: top;\n",
              "    }\n",
              "\n",
              "    .dataframe thead th {\n",
              "        text-align: right;\n",
              "    }\n",
              "</style>\n",
              "<table border=\"1\" class=\"dataframe\">\n",
              "  <thead>\n",
              "    <tr style=\"text-align: right;\">\n",
              "      <th></th>\n",
              "      <th>sgName</th>\n",
              "      <th>sgTypecode</th>\n",
              "      <th>sgVotedate</th>\n",
              "    </tr>\n",
              "    <tr>\n",
              "      <th>sgId</th>\n",
              "      <th></th>\n",
              "      <th></th>\n",
              "      <th></th>\n",
              "    </tr>\n",
              "  </thead>\n",
              "  <tbody>\n",
              "    <tr>\n",
              "      <th>20160413</th>\n",
              "      <td>제20대 국회의원선거</td>\n",
              "      <td>0</td>\n",
              "      <td>20160413</td>\n",
              "    </tr>\n",
              "    <tr>\n",
              "      <th>20160413</th>\n",
              "      <td>국회의원선거</td>\n",
              "      <td>2</td>\n",
              "      <td>20160413</td>\n",
              "    </tr>\n",
              "    <tr>\n",
              "      <th>20160413</th>\n",
              "      <td>구·시·군의장선거</td>\n",
              "      <td>4</td>\n",
              "      <td>20160413</td>\n",
              "    </tr>\n",
              "    <tr>\n",
              "      <th>20160413</th>\n",
              "      <td>시·도의회의원선거</td>\n",
              "      <td>5</td>\n",
              "      <td>20160413</td>\n",
              "    </tr>\n",
              "    <tr>\n",
              "      <th>20160413</th>\n",
              "      <td>구·시·군의회의원선거</td>\n",
              "      <td>6</td>\n",
              "      <td>20160413</td>\n",
              "    </tr>\n",
              "  </tbody>\n",
              "</table>\n",
              "</div>"
            ],
            "text/plain": [
              "               sgName  sgTypecode sgVotedate\n",
              "sgId                                        \n",
              "20160413  제20대 국회의원선거           0   20160413\n",
              "20160413       국회의원선거           2   20160413\n",
              "20160413    구·시·군의장선거           4   20160413\n",
              "20160413    시·도의회의원선거           5   20160413\n",
              "20160413  구·시·군의회의원선거           6   20160413"
            ]
          },
          "metadata": {
            "tags": []
          },
          "execution_count": 14
        }
      ]
    },
    {
      "cell_type": "code",
      "metadata": {
        "id": "d2KScXLStI9N"
      },
      "source": [
        "election_df = election_code.reset_index()"
      ],
      "execution_count": 21,
      "outputs": []
    },
    {
      "cell_type": "markdown",
      "metadata": {
        "id": "w0YtTlMAN5Ax"
      },
      "source": [
        "## Politician data preprocessing"
      ]
    },
    {
      "cell_type": "code",
      "metadata": {
        "id": "xaiOcbxFf8NZ"
      },
      "source": [
        "def politician_preprocessing():\n",
        "  # current politician data preprocessing\n",
        "  curr_data_df = get_curr_politician_mem()\n",
        "  curr_data = curr_data_df.drop(['engNm', 'hjNm', 'origNm', 'reeleGbnNm'], axis=1)\n",
        "  curr_data.columns = ['deptCode', 'name', 'imageLink', 'num']\n",
        "\n",
        "  # export dept_code for find detail politician\n",
        "  dept_code = curr_data['deptCode'].unique().astype(int)\n",
        "\n",
        "  # detail politician data preprocessing\n",
        "  detail_df = pd.DataFrame()\n",
        "\n",
        "  for deptCd in dept_code:\n",
        "    detail_data = get_politician_detail(deptCd)\n",
        "    detail_data['deptCode'] = deptCd\n",
        "    detail_df = pd.concat([detail_df, detail_data], ignore_index=True)\n",
        "\n",
        "  detail_data = detail_df.drop(['assemEmail','assemHomep','assemTel', 'electionNum', 'engNm', 'hjNm', 'reeleGbnNm', 'secretary', 'secretary2', 'shrtNm', 'staff', 'hbbyCd', 'examCd'], axis=1)\n",
        "  detail_data.columns = ['birthday', 'name', 'memTitle', 'sggName' , 'partyName', 'deptCode']\n",
        "\n",
        "  # column type match to database column\n",
        "  curr_data = curr_data.astype({'deptCode':int})\n",
        "  detail_data = detail_data.astype({'deptCode':int})\n",
        "\n",
        "  # join the current politician and detail poloitician\n",
        "  politician = pd.merge(curr_data, detail_data, how='left', on=['name', 'deptCode'])\n",
        "  politician['age'] = dt.datetime.now().year - pd.to_datetime(politician['birthday']).dt.year - 1\n",
        "  politician['birthday'] = pd.to_datetime(politician['birthday'], format='%Y-%m-%d')\n",
        "  politician.set_index('deptCode', inplace=True)\n",
        "\n",
        "  return politician"
      ],
      "execution_count": 22,
      "outputs": []
    },
    {
      "cell_type": "code",
      "metadata": {
        "id": "pCPgD7I7hBZI"
      },
      "source": [
        "politician = politician_preprocessing()"
      ],
      "execution_count": 23,
      "outputs": []
    },
    {
      "cell_type": "code",
      "metadata": {
        "colab": {
          "base_uri": "https://localhost:8080/"
        },
        "id": "E7yR7dwYwyb9",
        "outputId": "5ee501fd-cff4-4bce-cd1f-fc074b4aada3"
      },
      "source": [
        "len(politician)"
      ],
      "execution_count": 24,
      "outputs": [
        {
          "output_type": "execute_result",
          "data": {
            "text/plain": [
              "300"
            ]
          },
          "metadata": {
            "tags": []
          },
          "execution_count": 24
        }
      ]
    },
    {
      "cell_type": "markdown",
      "metadata": {
        "id": "xvClsGOdovh7"
      },
      "source": [
        "## Candidate data preprocessing"
      ]
    },
    {
      "cell_type": "code",
      "metadata": {
        "id": "sRiJ3CI9EVNP"
      },
      "source": [
        "def candidate_code_preprocessing():\n",
        "  election_code = election_code_preprocessing()\n",
        "  data = election_code.reset_index()  \n",
        "  election_data = data[['sgId', 'sgTypecode']]\n",
        "\n",
        "  candidate_df = pd.DataFrame()\n",
        "\n",
        "  # concat all candidate df\n",
        "  for i in range(len(election_data)):\n",
        "    curr_id = election_data['sgId'][i]\n",
        "    curr_code = election_data['sgTypecode'][i]\n",
        "    curr_df = pd.DataFrame()\n",
        "\n",
        "    if curr_code != 0:\n",
        "      curr_df = get_candidate_df(curr_id, curr_code)\n",
        "    \n",
        "    candidate_df = pd.concat([candidate_df, curr_df], ignore_index=True)\n",
        "  \n",
        "  # candidate column change\n",
        "  candidate = candidate_df.drop(['NUM', 'GIHO_SANGSE', 'HANJA_NAME', 'JOB_ID', 'EDU_ID', 'EDU', 'CAREER1', 'CAREER2', 'AGE'], axis=1)\n",
        "  candidate.columns = ['sgId', 'sgTypecode', 'cnddtId', 'sggName', 'sdName', 'wiwName', 'giho', 'partyName', 'name', 'gender', 'birthday','address', 'job', 'status']\n",
        "\n",
        "  # encoding data\n",
        "  le = LabelEncoder()\n",
        "\n",
        "  for category in ['gender', 'status']:\n",
        "    candidate[category] = le.fit_transform(candidate[category])\n",
        "\n",
        "  # giho null value\n",
        "  candidate[candidate['giho'] == ''] = 1\n",
        "\n",
        "  # type matching to sql column type\n",
        "  candidate = candidate.astype({'sgId':int, 'sgTypecode':int, 'cnddtId':int, 'gender':int, 'status':int, 'giho':int})\n",
        "  candidate['birthday'] = pd.to_datetime(candidate['birthday'], format='%Y-%m-%d')\n",
        "  candidate.set_index('cnddtId', inplace=True)\n",
        "\n",
        "  cndd_idx = candidate[candidate['sgId']==1].index\n",
        "  candidate = candidate.drop(cndd_idx)\n",
        "\n",
        "  return candidate"
      ],
      "execution_count": 25,
      "outputs": []
    },
    {
      "cell_type": "code",
      "metadata": {
        "id": "1npou0NT6Y7G"
      },
      "source": [
        "candidate = candidate_code_preprocessing()"
      ],
      "execution_count": 26,
      "outputs": []
    },
    {
      "cell_type": "code",
      "metadata": {
        "colab": {
          "base_uri": "https://localhost:8080/",
          "height": 235
        },
        "id": "1_WrgYBCozLh",
        "outputId": "89e8eea5-6fc1-4820-99a7-4cc1f62ae0df"
      },
      "source": [
        "candidate.head()"
      ],
      "execution_count": 27,
      "outputs": [
        {
          "output_type": "execute_result",
          "data": {
            "text/html": [
              "<div>\n",
              "<style scoped>\n",
              "    .dataframe tbody tr th:only-of-type {\n",
              "        vertical-align: middle;\n",
              "    }\n",
              "\n",
              "    .dataframe tbody tr th {\n",
              "        vertical-align: top;\n",
              "    }\n",
              "\n",
              "    .dataframe thead th {\n",
              "        text-align: right;\n",
              "    }\n",
              "</style>\n",
              "<table border=\"1\" class=\"dataframe\">\n",
              "  <thead>\n",
              "    <tr style=\"text-align: right;\">\n",
              "      <th></th>\n",
              "      <th>sgId</th>\n",
              "      <th>sgTypecode</th>\n",
              "      <th>sggName</th>\n",
              "      <th>sdName</th>\n",
              "      <th>wiwName</th>\n",
              "      <th>giho</th>\n",
              "      <th>partyName</th>\n",
              "      <th>name</th>\n",
              "      <th>gender</th>\n",
              "      <th>birthday</th>\n",
              "      <th>address</th>\n",
              "      <th>job</th>\n",
              "      <th>status</th>\n",
              "    </tr>\n",
              "    <tr>\n",
              "      <th>cnddtId</th>\n",
              "      <th></th>\n",
              "      <th></th>\n",
              "      <th></th>\n",
              "      <th></th>\n",
              "      <th></th>\n",
              "      <th></th>\n",
              "      <th></th>\n",
              "      <th></th>\n",
              "      <th></th>\n",
              "      <th></th>\n",
              "      <th></th>\n",
              "      <th></th>\n",
              "      <th></th>\n",
              "    </tr>\n",
              "  </thead>\n",
              "  <tbody>\n",
              "    <tr>\n",
              "      <th>100118613</th>\n",
              "      <td>20160413</td>\n",
              "      <td>2</td>\n",
              "      <td>종로구</td>\n",
              "      <td>서울특별시</td>\n",
              "      <td>종로구</td>\n",
              "      <td>1</td>\n",
              "      <td>새누리당</td>\n",
              "      <td>오세훈</td>\n",
              "      <td>0</td>\n",
              "      <td>1961-01-04</td>\n",
              "      <td></td>\n",
              "      <td>변호사</td>\n",
              "      <td>0</td>\n",
              "    </tr>\n",
              "    <tr>\n",
              "      <th>100119321</th>\n",
              "      <td>20160413</td>\n",
              "      <td>2</td>\n",
              "      <td>종로구</td>\n",
              "      <td>서울특별시</td>\n",
              "      <td>종로구</td>\n",
              "      <td>2</td>\n",
              "      <td>더불어민주당</td>\n",
              "      <td>정세균</td>\n",
              "      <td>0</td>\n",
              "      <td>1950-09-26</td>\n",
              "      <td></td>\n",
              "      <td>국회의원</td>\n",
              "      <td>0</td>\n",
              "    </tr>\n",
              "    <tr>\n",
              "      <th>100119833</th>\n",
              "      <td>20160413</td>\n",
              "      <td>2</td>\n",
              "      <td>종로구</td>\n",
              "      <td>서울특별시</td>\n",
              "      <td>종로구</td>\n",
              "      <td>3</td>\n",
              "      <td>국민의당</td>\n",
              "      <td>박태순</td>\n",
              "      <td>0</td>\n",
              "      <td>1963-02-28</td>\n",
              "      <td></td>\n",
              "      <td>사회갈등연구소 대표이사</td>\n",
              "      <td>0</td>\n",
              "    </tr>\n",
              "    <tr>\n",
              "      <th>100120092</th>\n",
              "      <td>20160413</td>\n",
              "      <td>2</td>\n",
              "      <td>종로구</td>\n",
              "      <td>서울특별시</td>\n",
              "      <td>종로구</td>\n",
              "      <td>4</td>\n",
              "      <td>정의당</td>\n",
              "      <td>윤공규</td>\n",
              "      <td>0</td>\n",
              "      <td>1963-04-21</td>\n",
              "      <td></td>\n",
              "      <td>정당인</td>\n",
              "      <td>0</td>\n",
              "    </tr>\n",
              "    <tr>\n",
              "      <th>100120147</th>\n",
              "      <td>20160413</td>\n",
              "      <td>2</td>\n",
              "      <td>종로구</td>\n",
              "      <td>서울특별시</td>\n",
              "      <td>종로구</td>\n",
              "      <td>5</td>\n",
              "      <td>노동당</td>\n",
              "      <td>김한울</td>\n",
              "      <td>0</td>\n",
              "      <td>1978-12-16</td>\n",
              "      <td></td>\n",
              "      <td>종로구 지역 활동가</td>\n",
              "      <td>0</td>\n",
              "    </tr>\n",
              "  </tbody>\n",
              "</table>\n",
              "</div>"
            ],
            "text/plain": [
              "               sgId  sgTypecode sggName  ... address           job  status\n",
              "cnddtId                                  ...                              \n",
              "100118613  20160413           2     종로구  ...                   변호사       0\n",
              "100119321  20160413           2     종로구  ...                  국회의원       0\n",
              "100119833  20160413           2     종로구  ...          사회갈등연구소 대표이사       0\n",
              "100120092  20160413           2     종로구  ...                   정당인       0\n",
              "100120147  20160413           2     종로구  ...            종로구 지역 활동가       0\n",
              "\n",
              "[5 rows x 13 columns]"
            ]
          },
          "metadata": {
            "tags": []
          },
          "execution_count": 27
        }
      ]
    },
    {
      "cell_type": "code",
      "metadata": {
        "colab": {
          "base_uri": "https://localhost:8080/",
          "height": 886
        },
        "id": "3qNz7CBzuVvO",
        "outputId": "50738948-41e9-4908-aaa5-4d40ec5e1750"
      },
      "source": [
        "candidate[candidate['status'] == 1]"
      ],
      "execution_count": null,
      "outputs": [
        {
          "output_type": "execute_result",
          "data": {
            "text/html": [
              "<div>\n",
              "<style scoped>\n",
              "    .dataframe tbody tr th:only-of-type {\n",
              "        vertical-align: middle;\n",
              "    }\n",
              "\n",
              "    .dataframe tbody tr th {\n",
              "        vertical-align: top;\n",
              "    }\n",
              "\n",
              "    .dataframe thead th {\n",
              "        text-align: right;\n",
              "    }\n",
              "</style>\n",
              "<table border=\"1\" class=\"dataframe\">\n",
              "  <thead>\n",
              "    <tr style=\"text-align: right;\">\n",
              "      <th></th>\n",
              "      <th>sgId</th>\n",
              "      <th>sgTypecode</th>\n",
              "      <th>sggName</th>\n",
              "      <th>sdName</th>\n",
              "      <th>wiwName</th>\n",
              "      <th>giho</th>\n",
              "      <th>partyName</th>\n",
              "      <th>name</th>\n",
              "      <th>gender</th>\n",
              "      <th>birthday</th>\n",
              "      <th>address</th>\n",
              "      <th>job</th>\n",
              "      <th>status</th>\n",
              "    </tr>\n",
              "    <tr>\n",
              "      <th>cnddtId</th>\n",
              "      <th></th>\n",
              "      <th></th>\n",
              "      <th></th>\n",
              "      <th></th>\n",
              "      <th></th>\n",
              "      <th></th>\n",
              "      <th></th>\n",
              "      <th></th>\n",
              "      <th></th>\n",
              "      <th></th>\n",
              "      <th></th>\n",
              "      <th></th>\n",
              "      <th></th>\n",
              "    </tr>\n",
              "  </thead>\n",
              "  <tbody>\n",
              "    <tr>\n",
              "      <th>100120719</th>\n",
              "      <td>20160413</td>\n",
              "      <td>2</td>\n",
              "      <td>도봉구을</td>\n",
              "      <td>서울특별시</td>\n",
              "      <td>도봉구</td>\n",
              "      <td>5</td>\n",
              "      <td>무소속</td>\n",
              "      <td>최순자</td>\n",
              "      <td>1</td>\n",
              "      <td>1954-04-09</td>\n",
              "      <td></td>\n",
              "      <td>(주)우정트레킹 여행사 대표이사</td>\n",
              "      <td>1</td>\n",
              "    </tr>\n",
              "    <tr>\n",
              "      <th>100119306</th>\n",
              "      <td>20160413</td>\n",
              "      <td>2</td>\n",
              "      <td>춘천시</td>\n",
              "      <td>강원도</td>\n",
              "      <td>춘천시</td>\n",
              "      <td>3</td>\n",
              "      <td>국민의당</td>\n",
              "      <td>이용범</td>\n",
              "      <td>0</td>\n",
              "      <td>1960-05-17</td>\n",
              "      <td></td>\n",
              "      <td>사회복지법인 한아름 대표</td>\n",
              "      <td>1</td>\n",
              "    </tr>\n",
              "    <tr>\n",
              "      <th>100123623</th>\n",
              "      <td>20180613</td>\n",
              "      <td>4</td>\n",
              "      <td>남원시</td>\n",
              "      <td>전라북도</td>\n",
              "      <td>남원시</td>\n",
              "      <td>3</td>\n",
              "      <td>바른미래당</td>\n",
              "      <td>김영권</td>\n",
              "      <td>0</td>\n",
              "      <td>1946-11-22</td>\n",
              "      <td></td>\n",
              "      <td>무직</td>\n",
              "      <td>1</td>\n",
              "    </tr>\n",
              "    <tr>\n",
              "      <th>100129996</th>\n",
              "      <td>20180613</td>\n",
              "      <td>4</td>\n",
              "      <td>봉화군</td>\n",
              "      <td>경상북도</td>\n",
              "      <td>봉화군</td>\n",
              "      <td>1</td>\n",
              "      <td>더불어민주당</td>\n",
              "      <td>김두성</td>\n",
              "      <td>0</td>\n",
              "      <td>1964-10-10</td>\n",
              "      <td></td>\n",
              "      <td>정당인</td>\n",
              "      <td>1</td>\n",
              "    </tr>\n",
              "    <tr>\n",
              "      <th>100132227</th>\n",
              "      <td>20180613</td>\n",
              "      <td>5</td>\n",
              "      <td>북구제3선거구</td>\n",
              "      <td>광주광역시</td>\n",
              "      <td>북구</td>\n",
              "      <td>3</td>\n",
              "      <td>바른미래당</td>\n",
              "      <td>박선하</td>\n",
              "      <td>1</td>\n",
              "      <td>1953-06-30</td>\n",
              "      <td></td>\n",
              "      <td>정당인</td>\n",
              "      <td>1</td>\n",
              "    </tr>\n",
              "    <tr>\n",
              "      <th>100132579</th>\n",
              "      <td>20180613</td>\n",
              "      <td>8</td>\n",
              "      <td>경상북도</td>\n",
              "      <td>경상북도</td>\n",
              "      <td></td>\n",
              "      <td>1</td>\n",
              "      <td>녹색당</td>\n",
              "      <td>정연주</td>\n",
              "      <td>1</td>\n",
              "      <td>1972-04-26</td>\n",
              "      <td></td>\n",
              "      <td>농부</td>\n",
              "      <td>1</td>\n",
              "    </tr>\n",
              "    <tr>\n",
              "      <th>100133755</th>\n",
              "      <td>20180613</td>\n",
              "      <td>9</td>\n",
              "      <td>남구</td>\n",
              "      <td>광주광역시</td>\n",
              "      <td>남구</td>\n",
              "      <td>1</td>\n",
              "      <td>민주평화당</td>\n",
              "      <td>김진숙</td>\n",
              "      <td>1</td>\n",
              "      <td>1969-08-29</td>\n",
              "      <td></td>\n",
              "      <td>(현)희망누림실버대학광주지사 광주지사장</td>\n",
              "      <td>1</td>\n",
              "    </tr>\n",
              "    <tr>\n",
              "      <th>100133726</th>\n",
              "      <td>20180613</td>\n",
              "      <td>9</td>\n",
              "      <td>대덕구</td>\n",
              "      <td>대전광역시</td>\n",
              "      <td>대덕구</td>\n",
              "      <td>2</td>\n",
              "      <td>더불어민주당</td>\n",
              "      <td>이자형</td>\n",
              "      <td>0</td>\n",
              "      <td>1981-06-10</td>\n",
              "      <td></td>\n",
              "      <td>사회복지사</td>\n",
              "      <td>1</td>\n",
              "    </tr>\n",
              "    <tr>\n",
              "      <th>100133876</th>\n",
              "      <td>20180613</td>\n",
              "      <td>9</td>\n",
              "      <td>수원시</td>\n",
              "      <td>경기도</td>\n",
              "      <td>수원시팔달구</td>\n",
              "      <td>1</td>\n",
              "      <td>자유한국당</td>\n",
              "      <td>양은숙</td>\n",
              "      <td>1</td>\n",
              "      <td>1973-02-27</td>\n",
              "      <td></td>\n",
              "      <td>굿맘이안어린이집 원장</td>\n",
              "      <td>1</td>\n",
              "    </tr>\n",
              "    <tr>\n",
              "      <th>100133467</th>\n",
              "      <td>20180613</td>\n",
              "      <td>9</td>\n",
              "      <td>성남시</td>\n",
              "      <td>경기도</td>\n",
              "      <td>성남시중원구</td>\n",
              "      <td>1</td>\n",
              "      <td>정의당</td>\n",
              "      <td>안미정</td>\n",
              "      <td>1</td>\n",
              "      <td>1973-01-12</td>\n",
              "      <td></td>\n",
              "      <td>수진동어린이집 보육교사</td>\n",
              "      <td>1</td>\n",
              "    </tr>\n",
              "    <tr>\n",
              "      <th>100134304</th>\n",
              "      <td>20180613</td>\n",
              "      <td>9</td>\n",
              "      <td>의정부시</td>\n",
              "      <td>경기도</td>\n",
              "      <td>의정부시</td>\n",
              "      <td>2</td>\n",
              "      <td>자유한국당</td>\n",
              "      <td>안금례</td>\n",
              "      <td>1</td>\n",
              "      <td>1959-08-02</td>\n",
              "      <td></td>\n",
              "      <td>정당인</td>\n",
              "      <td>1</td>\n",
              "    </tr>\n",
              "    <tr>\n",
              "      <th>100134196</th>\n",
              "      <td>20180613</td>\n",
              "      <td>9</td>\n",
              "      <td>의정부시</td>\n",
              "      <td>경기도</td>\n",
              "      <td>의정부시</td>\n",
              "      <td>2</td>\n",
              "      <td>바른미래당</td>\n",
              "      <td>황인규</td>\n",
              "      <td>0</td>\n",
              "      <td>1961-05-14</td>\n",
              "      <td></td>\n",
              "      <td>권투체육관관장</td>\n",
              "      <td>1</td>\n",
              "    </tr>\n",
              "    <tr>\n",
              "      <th>100132945</th>\n",
              "      <td>20180613</td>\n",
              "      <td>9</td>\n",
              "      <td>안양시</td>\n",
              "      <td>경기도</td>\n",
              "      <td>안양시동안구</td>\n",
              "      <td>2</td>\n",
              "      <td>더불어민주당</td>\n",
              "      <td>정덕남</td>\n",
              "      <td>1</td>\n",
              "      <td>1961-03-01</td>\n",
              "      <td></td>\n",
              "      <td>정당인</td>\n",
              "      <td>1</td>\n",
              "    </tr>\n",
              "    <tr>\n",
              "      <th>100133910</th>\n",
              "      <td>20180613</td>\n",
              "      <td>9</td>\n",
              "      <td>부천시</td>\n",
              "      <td>경기도</td>\n",
              "      <td>부천시</td>\n",
              "      <td>1</td>\n",
              "      <td>대한애국당</td>\n",
              "      <td>이광용</td>\n",
              "      <td>1</td>\n",
              "      <td>1954-03-29</td>\n",
              "      <td></td>\n",
              "      <td>정당인</td>\n",
              "      <td>1</td>\n",
              "    </tr>\n",
              "    <tr>\n",
              "      <th>100134073</th>\n",
              "      <td>20180613</td>\n",
              "      <td>9</td>\n",
              "      <td>평택시</td>\n",
              "      <td>경기도</td>\n",
              "      <td>평택시</td>\n",
              "      <td>1</td>\n",
              "      <td>바른미래당</td>\n",
              "      <td>이미숙</td>\n",
              "      <td>1</td>\n",
              "      <td>1955-10-07</td>\n",
              "      <td></td>\n",
              "      <td>사업가</td>\n",
              "      <td>1</td>\n",
              "    </tr>\n",
              "    <tr>\n",
              "      <th>100133523</th>\n",
              "      <td>20180613</td>\n",
              "      <td>9</td>\n",
              "      <td>파주시</td>\n",
              "      <td>경기도</td>\n",
              "      <td>파주시</td>\n",
              "      <td>2</td>\n",
              "      <td>더불어민주당</td>\n",
              "      <td>이민숙</td>\n",
              "      <td>1</td>\n",
              "      <td>1956-09-25</td>\n",
              "      <td></td>\n",
              "      <td>무직</td>\n",
              "      <td>1</td>\n",
              "    </tr>\n",
              "    <tr>\n",
              "      <th>100132852</th>\n",
              "      <td>20180613</td>\n",
              "      <td>9</td>\n",
              "      <td>화천군</td>\n",
              "      <td>강원도</td>\n",
              "      <td>화천군</td>\n",
              "      <td>1</td>\n",
              "      <td>더불어민주당</td>\n",
              "      <td>이춘희</td>\n",
              "      <td>1</td>\n",
              "      <td>1962-11-03</td>\n",
              "      <td></td>\n",
              "      <td>세탁소(크린에이드) 대표</td>\n",
              "      <td>1</td>\n",
              "    </tr>\n",
              "    <tr>\n",
              "      <th>100132370</th>\n",
              "      <td>20180613</td>\n",
              "      <td>9</td>\n",
              "      <td>청양군</td>\n",
              "      <td>충청남도</td>\n",
              "      <td>청양군</td>\n",
              "      <td>1</td>\n",
              "      <td>더불어민주당</td>\n",
              "      <td>표춘영</td>\n",
              "      <td>1</td>\n",
              "      <td>1967-05-01</td>\n",
              "      <td></td>\n",
              "      <td>자영업</td>\n",
              "      <td>1</td>\n",
              "    </tr>\n",
              "    <tr>\n",
              "      <th>100132790</th>\n",
              "      <td>20180613</td>\n",
              "      <td>9</td>\n",
              "      <td>익산시</td>\n",
              "      <td>전라북도</td>\n",
              "      <td>익산시</td>\n",
              "      <td>2</td>\n",
              "      <td>민주평화당</td>\n",
              "      <td>최병오</td>\n",
              "      <td>0</td>\n",
              "      <td>1947-05-18</td>\n",
              "      <td></td>\n",
              "      <td>축산업</td>\n",
              "      <td>1</td>\n",
              "    </tr>\n",
              "    <tr>\n",
              "      <th>100132770</th>\n",
              "      <td>20180613</td>\n",
              "      <td>9</td>\n",
              "      <td>익산시</td>\n",
              "      <td>전라북도</td>\n",
              "      <td>익산시</td>\n",
              "      <td>4</td>\n",
              "      <td>더불어민주당</td>\n",
              "      <td>김채숙</td>\n",
              "      <td>1</td>\n",
              "      <td>1952-05-27</td>\n",
              "      <td></td>\n",
              "      <td>정당인</td>\n",
              "      <td>1</td>\n",
              "    </tr>\n",
              "    <tr>\n",
              "      <th>100137522</th>\n",
              "      <td>20200415</td>\n",
              "      <td>2</td>\n",
              "      <td>관악구갑</td>\n",
              "      <td>서울특별시</td>\n",
              "      <td>관악구</td>\n",
              "      <td>2</td>\n",
              "      <td>미래통합당</td>\n",
              "      <td>김대호</td>\n",
              "      <td>0</td>\n",
              "      <td>1963-08-22</td>\n",
              "      <td>서울특별시 관악구 관악로</td>\n",
              "      <td>사회디자인 연구소 소장</td>\n",
              "      <td>1</td>\n",
              "    </tr>\n",
              "    <tr>\n",
              "      <th>100137732</th>\n",
              "      <td>20200415</td>\n",
              "      <td>2</td>\n",
              "      <td>사하구갑</td>\n",
              "      <td>부산광역시</td>\n",
              "      <td>사하구</td>\n",
              "      <td>7</td>\n",
              "      <td>친박신당</td>\n",
              "      <td>권영</td>\n",
              "      <td>0</td>\n",
              "      <td>1940-02-14</td>\n",
              "      <td>부산광역시 사하구 괴정로232번길</td>\n",
              "      <td>무직</td>\n",
              "      <td>1</td>\n",
              "    </tr>\n",
              "    <tr>\n",
              "      <th>100138045</th>\n",
              "      <td>20200415</td>\n",
              "      <td>7</td>\n",
              "      <td>비례대표</td>\n",
              "      <td>전국</td>\n",
              "      <td></td>\n",
              "      <td>1</td>\n",
              "      <td>가자!평화인권당</td>\n",
              "      <td>민영희</td>\n",
              "      <td>1</td>\n",
              "      <td>1946-12-17</td>\n",
              "      <td>서울특별시 송파구 성내천로</td>\n",
              "      <td>없음</td>\n",
              "      <td>1</td>\n",
              "    </tr>\n",
              "    <tr>\n",
              "      <th>100138177</th>\n",
              "      <td>20200415</td>\n",
              "      <td>7</td>\n",
              "      <td>비례대표</td>\n",
              "      <td>전국</td>\n",
              "      <td></td>\n",
              "      <td>9</td>\n",
              "      <td>국가혁명배당금당</td>\n",
              "      <td>정재희</td>\n",
              "      <td>1</td>\n",
              "      <td>1944-06-29</td>\n",
              "      <td>부산광역시 동래구 복천로51번길</td>\n",
              "      <td>사업가</td>\n",
              "      <td>1</td>\n",
              "    </tr>\n",
              "    <tr>\n",
              "      <th>100138139</th>\n",
              "      <td>20200415</td>\n",
              "      <td>7</td>\n",
              "      <td>비례대표</td>\n",
              "      <td>전국</td>\n",
              "      <td></td>\n",
              "      <td>18</td>\n",
              "      <td>민생당</td>\n",
              "      <td>김선미</td>\n",
              "      <td>1</td>\n",
              "      <td>1964-03-30</td>\n",
              "      <td>전라남도 순천시 석현북길</td>\n",
              "      <td>교수</td>\n",
              "      <td>1</td>\n",
              "    </tr>\n",
              "    <tr>\n",
              "      <th>100138192</th>\n",
              "      <td>20200415</td>\n",
              "      <td>7</td>\n",
              "      <td>비례대표</td>\n",
              "      <td>전국</td>\n",
              "      <td></td>\n",
              "      <td>21</td>\n",
              "      <td>국가혁명배당금당</td>\n",
              "      <td>장창순</td>\n",
              "      <td>1</td>\n",
              "      <td>1953-05-21</td>\n",
              "      <td>서울특별시 은평구 통일로94길</td>\n",
              "      <td>정당인</td>\n",
              "      <td>1</td>\n",
              "    </tr>\n",
              "  </tbody>\n",
              "</table>\n",
              "</div>"
            ],
            "text/plain": [
              "               sgId  sgTypecode  ...                    job status\n",
              "cnddtId                          ...                              \n",
              "100120719  20160413           2  ...      (주)우정트레킹 여행사 대표이사      1\n",
              "100119306  20160413           2  ...          사회복지법인 한아름 대표      1\n",
              "100123623  20180613           4  ...                     무직      1\n",
              "100129996  20180613           4  ...                    정당인      1\n",
              "100132227  20180613           5  ...                    정당인      1\n",
              "100132579  20180613           8  ...                     농부      1\n",
              "100133755  20180613           9  ...  (현)희망누림실버대학광주지사 광주지사장      1\n",
              "100133726  20180613           9  ...                  사회복지사      1\n",
              "100133876  20180613           9  ...            굿맘이안어린이집 원장      1\n",
              "100133467  20180613           9  ...           수진동어린이집 보육교사      1\n",
              "100134304  20180613           9  ...                    정당인      1\n",
              "100134196  20180613           9  ...                권투체육관관장      1\n",
              "100132945  20180613           9  ...                    정당인      1\n",
              "100133910  20180613           9  ...                    정당인      1\n",
              "100134073  20180613           9  ...                    사업가      1\n",
              "100133523  20180613           9  ...                     무직      1\n",
              "100132852  20180613           9  ...          세탁소(크린에이드) 대표      1\n",
              "100132370  20180613           9  ...                    자영업      1\n",
              "100132790  20180613           9  ...                    축산업      1\n",
              "100132770  20180613           9  ...                    정당인      1\n",
              "100137522  20200415           2  ...           사회디자인 연구소 소장      1\n",
              "100137732  20200415           2  ...                     무직      1\n",
              "100138045  20200415           7  ...                     없음      1\n",
              "100138177  20200415           7  ...                    사업가      1\n",
              "100138139  20200415           7  ...                     교수      1\n",
              "100138192  20200415           7  ...                    정당인      1\n",
              "\n",
              "[26 rows x 13 columns]"
            ]
          },
          "metadata": {
            "tags": []
          },
          "execution_count": 54
        }
      ]
    },
    {
      "cell_type": "markdown",
      "metadata": {
        "id": "67NhDMEZn3Xr"
      },
      "source": [
        "## Polls data preprocessing"
      ]
    },
    {
      "cell_type": "markdown",
      "metadata": {
        "id": "R5hZtZY0n99-"
      },
      "source": [
        "### pre_polls data preprocessing"
      ]
    },
    {
      "cell_type": "code",
      "metadata": {
        "id": "lpur3GsetuCm"
      },
      "source": [
        "def pre_poll_preprocessing():\n",
        "  sdarr = candidate['sdName'].unique()\n",
        "  datearr = election_code['sgVotedate'].unique()\n",
        "  \n",
        "  total = pd.DataFrame()\n",
        "  for dt in datearr:\n",
        "    for sd in sdarr:\n",
        "      try:\n",
        "        cur = get_prepoll_df(dt, sd)\n",
        "        total = pd.concat([total, cur], ignore_index=True)\n",
        "      except:\n",
        "        print(sd, 'no propoll at', dt)\n",
        "  \n",
        "  total.drop(['NUM'], axis=1, inplace=True)\n",
        "  total.columns = ['sgId', 'evPsName', 'sdName', 'wiwName', 'emdName', 'evOrder', 'placeName','address', 'floor']  \n",
        "  total = total.astype({'sgId':int, 'evOrder':int})\n",
        "  total.set_index('sgId', inplace=True)\n",
        "  \n",
        "  return total"
      ],
      "execution_count": 34,
      "outputs": []
    },
    {
      "cell_type": "code",
      "metadata": {
        "colab": {
          "base_uri": "https://localhost:8080/",
          "height": 711
        },
        "id": "qAVaM_sivO13",
        "outputId": "1714289a-4a96-4529-f06b-d0bb567b2270"
      },
      "source": [
        "pre_poll = pre_poll_preprocessing()\n",
        "pre_poll.head()"
      ],
      "execution_count": 35,
      "outputs": [
        {
          "output_type": "stream",
          "text": [
            "전국 no propoll at 20160413\n",
            "전국 no propoll at 20170509\n",
            "전국 no propoll at 20180613\n",
            "서울특별시 no propoll at 20190403\n",
            "부산광역시 no propoll at 20190403\n",
            "대구광역시 no propoll at 20190403\n",
            "인천광역시 no propoll at 20190403\n",
            "광주광역시 no propoll at 20190403\n",
            "대전광역시 no propoll at 20190403\n",
            "울산광역시 no propoll at 20190403\n",
            "세종특별자치시 no propoll at 20190403\n",
            "경기도 no propoll at 20190403\n",
            "강원도 no propoll at 20190403\n",
            "충청북도 no propoll at 20190403\n",
            "충청남도 no propoll at 20190403\n",
            "전라남도 no propoll at 20190403\n",
            "제주특별자치도 no propoll at 20190403\n",
            "전국 no propoll at 20190403\n",
            "전국 no propoll at 20200415\n",
            "대구광역시 no propoll at 20210407\n",
            "인천광역시 no propoll at 20210407\n",
            "광주광역시 no propoll at 20210407\n",
            "대전광역시 no propoll at 20210407\n",
            "세종특별자치시 no propoll at 20210407\n",
            "강원도 no propoll at 20210407\n",
            "경상북도 no propoll at 20210407\n",
            "제주특별자치도 no propoll at 20210407\n",
            "전국 no propoll at 20210407\n"
          ],
          "name": "stdout"
        },
        {
          "output_type": "execute_result",
          "data": {
            "text/html": [
              "<div>\n",
              "<style scoped>\n",
              "    .dataframe tbody tr th:only-of-type {\n",
              "        vertical-align: middle;\n",
              "    }\n",
              "\n",
              "    .dataframe tbody tr th {\n",
              "        vertical-align: top;\n",
              "    }\n",
              "\n",
              "    .dataframe thead th {\n",
              "        text-align: right;\n",
              "    }\n",
              "</style>\n",
              "<table border=\"1\" class=\"dataframe\">\n",
              "  <thead>\n",
              "    <tr style=\"text-align: right;\">\n",
              "      <th></th>\n",
              "      <th>evPsName</th>\n",
              "      <th>sdName</th>\n",
              "      <th>wiwName</th>\n",
              "      <th>emdName</th>\n",
              "      <th>evOrder</th>\n",
              "      <th>placeName</th>\n",
              "      <th>address</th>\n",
              "      <th>floor</th>\n",
              "    </tr>\n",
              "    <tr>\n",
              "      <th>sgId</th>\n",
              "      <th></th>\n",
              "      <th></th>\n",
              "      <th></th>\n",
              "      <th></th>\n",
              "      <th></th>\n",
              "      <th></th>\n",
              "      <th></th>\n",
              "      <th></th>\n",
              "    </tr>\n",
              "  </thead>\n",
              "  <tbody>\n",
              "    <tr>\n",
              "      <th>20160413</th>\n",
              "      <td>용신동사전투표소</td>\n",
              "      <td>서울특별시</td>\n",
              "      <td>동대문구</td>\n",
              "      <td>용신동</td>\n",
              "      <td>1</td>\n",
              "      <td>용신동주민센터(5층, 회의실)</td>\n",
              "      <td>서울특별시 동대문구 천호대로27길 35 (용두동)</td>\n",
              "      <td>5층</td>\n",
              "    </tr>\n",
              "    <tr>\n",
              "      <th>20160413</th>\n",
              "      <td>제기동사전투표소</td>\n",
              "      <td>서울특별시</td>\n",
              "      <td>동대문구</td>\n",
              "      <td>제기동</td>\n",
              "      <td>1</td>\n",
              "      <td>제기동주민센터(4층, 다목적강당)</td>\n",
              "      <td>서울특별시 동대문구 약령시로 71 (제기동)</td>\n",
              "      <td>4층</td>\n",
              "    </tr>\n",
              "    <tr>\n",
              "      <th>20160413</th>\n",
              "      <td>중림동사전투표소</td>\n",
              "      <td>서울특별시</td>\n",
              "      <td>중구</td>\n",
              "      <td>중림동</td>\n",
              "      <td>1</td>\n",
              "      <td>중림동주민센터(3층, 대강당)</td>\n",
              "      <td>서울특별시 중구 서소문로6길 16 (중림동)</td>\n",
              "      <td>3층</td>\n",
              "    </tr>\n",
              "    <tr>\n",
              "      <th>20160413</th>\n",
              "      <td>금호1가동사전투표소</td>\n",
              "      <td>서울특별시</td>\n",
              "      <td>중구</td>\n",
              "      <td>금호1가동</td>\n",
              "      <td>1</td>\n",
              "      <td>금호1가동주민센터(4층, 다목적실)</td>\n",
              "      <td>서울특별시 성동구 행당로 15 (금호동1가)</td>\n",
              "      <td>4층</td>\n",
              "    </tr>\n",
              "    <tr>\n",
              "      <th>20160413</th>\n",
              "      <td>금호2·3가동사전투표소</td>\n",
              "      <td>서울특별시</td>\n",
              "      <td>중구</td>\n",
              "      <td>금호2·3가동</td>\n",
              "      <td>1</td>\n",
              "      <td>금호2·3가동주민센터(3층, 다목적방)</td>\n",
              "      <td>서울특별시 성동구 무수막18길 1 (금호동2가)</td>\n",
              "      <td>3층</td>\n",
              "    </tr>\n",
              "  </tbody>\n",
              "</table>\n",
              "</div>"
            ],
            "text/plain": [
              "              evPsName sdName  ...                      address floor\n",
              "sgId                           ...                                   \n",
              "20160413      용신동사전투표소  서울특별시  ...  서울특별시 동대문구 천호대로27길 35 (용두동)    5층\n",
              "20160413      제기동사전투표소  서울특별시  ...     서울특별시 동대문구 약령시로 71 (제기동)    4층\n",
              "20160413      중림동사전투표소  서울특별시  ...     서울특별시 중구 서소문로6길 16 (중림동)    3층\n",
              "20160413    금호1가동사전투표소  서울특별시  ...     서울특별시 성동구 행당로 15 (금호동1가)    4층\n",
              "20160413  금호2·3가동사전투표소  서울특별시  ...   서울특별시 성동구 무수막18길 1 (금호동2가)    3층\n",
              "\n",
              "[5 rows x 8 columns]"
            ]
          },
          "metadata": {
            "tags": []
          },
          "execution_count": 35
        }
      ]
    },
    {
      "cell_type": "code",
      "metadata": {
        "colab": {
          "base_uri": "https://localhost:8080/",
          "height": 297
        },
        "id": "AP9s1x1TuvYS",
        "outputId": "78b6573a-1345-448a-9673-ee333df962b5"
      },
      "source": [
        "pre_poll[pre_poll['evPsName'] == '동명동사전투표소']"
      ],
      "execution_count": null,
      "outputs": [
        {
          "output_type": "execute_result",
          "data": {
            "text/html": [
              "<div>\n",
              "<style scoped>\n",
              "    .dataframe tbody tr th:only-of-type {\n",
              "        vertical-align: middle;\n",
              "    }\n",
              "\n",
              "    .dataframe tbody tr th {\n",
              "        vertical-align: top;\n",
              "    }\n",
              "\n",
              "    .dataframe thead th {\n",
              "        text-align: right;\n",
              "    }\n",
              "</style>\n",
              "<table border=\"1\" class=\"dataframe\">\n",
              "  <thead>\n",
              "    <tr style=\"text-align: right;\">\n",
              "      <th></th>\n",
              "      <th>evPsName</th>\n",
              "      <th>sdName</th>\n",
              "      <th>wiwName</th>\n",
              "      <th>emdName</th>\n",
              "      <th>evOrder</th>\n",
              "      <th>placeName</th>\n",
              "      <th>address</th>\n",
              "      <th>floor</th>\n",
              "    </tr>\n",
              "    <tr>\n",
              "      <th>sgId</th>\n",
              "      <th></th>\n",
              "      <th></th>\n",
              "      <th></th>\n",
              "      <th></th>\n",
              "      <th></th>\n",
              "      <th></th>\n",
              "      <th></th>\n",
              "      <th></th>\n",
              "    </tr>\n",
              "  </thead>\n",
              "  <tbody>\n",
              "    <tr>\n",
              "      <th>20160413</th>\n",
              "      <td>동명동사전투표소</td>\n",
              "      <td>광주광역시</td>\n",
              "      <td>동구</td>\n",
              "      <td>동명동</td>\n",
              "      <td>1</td>\n",
              "      <td>광주중앙도서관(1층, 문화강좌실)</td>\n",
              "      <td>광주광역시 동구 장동로 23-16 (동명동)</td>\n",
              "      <td>1층</td>\n",
              "    </tr>\n",
              "    <tr>\n",
              "      <th>20160413</th>\n",
              "      <td>동명동사전투표소</td>\n",
              "      <td>강원도</td>\n",
              "      <td>속초시</td>\n",
              "      <td>동명동</td>\n",
              "      <td>1</td>\n",
              "      <td>동해지방해양수산청 속초해양사무소 (1층, 소회의실)</td>\n",
              "      <td>강원도 속초시 동명항길 27 (동명동)</td>\n",
              "      <td>1층</td>\n",
              "    </tr>\n",
              "    <tr>\n",
              "      <th>20170509</th>\n",
              "      <td>동명동사전투표소</td>\n",
              "      <td>광주광역시</td>\n",
              "      <td>동구</td>\n",
              "      <td>동명동</td>\n",
              "      <td>1</td>\n",
              "      <td>광주중앙도서관(1층, 문화강좌실)</td>\n",
              "      <td>광주광역시 동구 장동로 23-16 (동명동)</td>\n",
              "      <td>1층</td>\n",
              "    </tr>\n",
              "    <tr>\n",
              "      <th>20180613</th>\n",
              "      <td>동명동사전투표소</td>\n",
              "      <td>광주광역시</td>\n",
              "      <td>동구</td>\n",
              "      <td>동명동</td>\n",
              "      <td>1</td>\n",
              "      <td>광주중앙도서관(1층, 간행물실)</td>\n",
              "      <td>광주광역시 동구 장동로 23-16 (동명동)</td>\n",
              "      <td>1층</td>\n",
              "    </tr>\n",
              "    <tr>\n",
              "      <th>20180613</th>\n",
              "      <td>동명동사전투표소</td>\n",
              "      <td>전라남도</td>\n",
              "      <td>목포시</td>\n",
              "      <td>동명동</td>\n",
              "      <td>1</td>\n",
              "      <td>동명동행정복지센터(1층, 회의실)</td>\n",
              "      <td>전라남도 목포시 자유로20번길 27 (동명동)</td>\n",
              "      <td>1층</td>\n",
              "    </tr>\n",
              "    <tr>\n",
              "      <th>20200415</th>\n",
              "      <td>동명동사전투표소</td>\n",
              "      <td>광주광역시</td>\n",
              "      <td>동구</td>\n",
              "      <td>동명동</td>\n",
              "      <td>1</td>\n",
              "      <td>광주중앙도서관(1층, 간행물실)</td>\n",
              "      <td>광주광역시 동구 장동로 23-16 (동명동)</td>\n",
              "      <td>1층</td>\n",
              "    </tr>\n",
              "    <tr>\n",
              "      <th>20200415</th>\n",
              "      <td>동명동사전투표소</td>\n",
              "      <td>전라남도</td>\n",
              "      <td>목포시</td>\n",
              "      <td>동명동</td>\n",
              "      <td>1</td>\n",
              "      <td>동명동행정복지센터(1층, 회의실)</td>\n",
              "      <td>전라남도 목포시 자유로20번길 27 (동명동)</td>\n",
              "      <td>1층</td>\n",
              "    </tr>\n",
              "  </tbody>\n",
              "</table>\n",
              "</div>"
            ],
            "text/plain": [
              "          evPsName sdName  ...                    address floor\n",
              "sgId                       ...                                 \n",
              "20160413  동명동사전투표소  광주광역시  ...   광주광역시 동구 장동로 23-16 (동명동)    1층\n",
              "20160413  동명동사전투표소    강원도  ...      강원도 속초시 동명항길 27 (동명동)    1층\n",
              "20170509  동명동사전투표소  광주광역시  ...   광주광역시 동구 장동로 23-16 (동명동)    1층\n",
              "20180613  동명동사전투표소  광주광역시  ...   광주광역시 동구 장동로 23-16 (동명동)    1층\n",
              "20180613  동명동사전투표소   전라남도  ...  전라남도 목포시 자유로20번길 27 (동명동)    1층\n",
              "20200415  동명동사전투표소  광주광역시  ...   광주광역시 동구 장동로 23-16 (동명동)    1층\n",
              "20200415  동명동사전투표소   전라남도  ...  전라남도 목포시 자유로20번길 27 (동명동)    1층\n",
              "\n",
              "[7 rows x 8 columns]"
            ]
          },
          "metadata": {
            "tags": []
          },
          "execution_count": 67
        }
      ]
    },
    {
      "cell_type": "markdown",
      "metadata": {
        "id": "-mHytbGsoAu1"
      },
      "source": [
        "### main_polls data preprocessing"
      ]
    },
    {
      "cell_type": "code",
      "metadata": {
        "id": "JOc9wKZvoCnD"
      },
      "source": [
        "def main_poll_preprocessing():\n",
        "  sdarr = candidate['sdName'].unique()\n",
        "  datearr = election_code['sgVotedate'].unique()\n",
        "\n",
        "  total = pd.DataFrame()\n",
        "  for dt in datearr:\n",
        "    for sd in sdarr:\n",
        "      try:\n",
        "        cur = get_mainpoll_df(dt, sd)\n",
        "        total = pd.concat([total, cur], ignore_index=True)\n",
        "      except:\n",
        "        print(sd, 'no mainpoll at', dt)\n",
        "      \n",
        "  total.drop(['NUM'], axis=1, inplace=True)\n",
        "  total.columns = ['sgId', 'PsName', 'sdName', 'wiwName', 'emdName', 'placeName','address', 'floor']  \n",
        "  total = total.astype({'sgId':int})\n",
        "  total.set_index('sgId', inplace=True)\n",
        "  \n",
        "  return total"
      ],
      "execution_count": 36,
      "outputs": []
    },
    {
      "cell_type": "code",
      "metadata": {
        "colab": {
          "base_uri": "https://localhost:8080/"
        },
        "id": "IV6qUSQovV54",
        "outputId": "f5786f11-7088-4257-ce23-fde78e208300"
      },
      "source": [
        "main_poll = main_poll_preprocessing()"
      ],
      "execution_count": 37,
      "outputs": [
        {
          "output_type": "stream",
          "text": [
            "전국 no mainpoll at 20160413\n",
            "전국 no mainpoll at 20170509\n",
            "전국 no mainpoll at 20180613\n",
            "서울특별시 no mainpoll at 20190403\n",
            "부산광역시 no mainpoll at 20190403\n",
            "대구광역시 no mainpoll at 20190403\n",
            "인천광역시 no mainpoll at 20190403\n",
            "광주광역시 no mainpoll at 20190403\n",
            "대전광역시 no mainpoll at 20190403\n",
            "울산광역시 no mainpoll at 20190403\n",
            "세종특별자치시 no mainpoll at 20190403\n",
            "경기도 no mainpoll at 20190403\n",
            "강원도 no mainpoll at 20190403\n",
            "충청북도 no mainpoll at 20190403\n",
            "충청남도 no mainpoll at 20190403\n",
            "전라남도 no mainpoll at 20190403\n",
            "제주특별자치도 no mainpoll at 20190403\n",
            "전국 no mainpoll at 20190403\n",
            "전국 no mainpoll at 20200415\n",
            "대구광역시 no mainpoll at 20210407\n",
            "인천광역시 no mainpoll at 20210407\n",
            "광주광역시 no mainpoll at 20210407\n",
            "대전광역시 no mainpoll at 20210407\n",
            "세종특별자치시 no mainpoll at 20210407\n",
            "강원도 no mainpoll at 20210407\n",
            "경상북도 no mainpoll at 20210407\n",
            "제주특별자치도 no mainpoll at 20210407\n",
            "전국 no mainpoll at 20210407\n"
          ],
          "name": "stdout"
        }
      ]
    },
    {
      "cell_type": "code",
      "metadata": {
        "colab": {
          "base_uri": "https://localhost:8080/",
          "height": 235
        },
        "id": "HDlWx93Jvfm8",
        "outputId": "470e7388-bc42-4f82-848b-2ef068edb0b6"
      },
      "source": [
        "main_poll.head()"
      ],
      "execution_count": null,
      "outputs": [
        {
          "output_type": "execute_result",
          "data": {
            "text/html": [
              "<div>\n",
              "<style scoped>\n",
              "    .dataframe tbody tr th:only-of-type {\n",
              "        vertical-align: middle;\n",
              "    }\n",
              "\n",
              "    .dataframe tbody tr th {\n",
              "        vertical-align: top;\n",
              "    }\n",
              "\n",
              "    .dataframe thead th {\n",
              "        text-align: right;\n",
              "    }\n",
              "</style>\n",
              "<table border=\"1\" class=\"dataframe\">\n",
              "  <thead>\n",
              "    <tr style=\"text-align: right;\">\n",
              "      <th></th>\n",
              "      <th>PsName</th>\n",
              "      <th>sdName</th>\n",
              "      <th>wiwName</th>\n",
              "      <th>emdName</th>\n",
              "      <th>placeName</th>\n",
              "      <th>address</th>\n",
              "      <th>floor</th>\n",
              "    </tr>\n",
              "    <tr>\n",
              "      <th>sgId</th>\n",
              "      <th></th>\n",
              "      <th></th>\n",
              "      <th></th>\n",
              "      <th></th>\n",
              "      <th></th>\n",
              "      <th></th>\n",
              "      <th></th>\n",
              "    </tr>\n",
              "  </thead>\n",
              "  <tbody>\n",
              "    <tr>\n",
              "      <th>20160413</th>\n",
              "      <td>가락2동제1투</td>\n",
              "      <td>서울특별시</td>\n",
              "      <td>송파구</td>\n",
              "      <td>가락2동</td>\n",
              "      <td>가락2동주민센터(1층, 민원실)</td>\n",
              "      <td>서울특별시 송파구 중대로20길 6 (가락동)</td>\n",
              "      <td>1층</td>\n",
              "    </tr>\n",
              "    <tr>\n",
              "      <th>20160413</th>\n",
              "      <td>일원본동제1투</td>\n",
              "      <td>서울특별시</td>\n",
              "      <td>강남구</td>\n",
              "      <td>일원본동</td>\n",
              "      <td>대왕중학교(본관2층, 나래도서관)</td>\n",
              "      <td>서울특별시 강남구 광평로20길 7(수서동)</td>\n",
              "      <td>1층</td>\n",
              "    </tr>\n",
              "    <tr>\n",
              "      <th>20160413</th>\n",
              "      <td>일원1동제1투</td>\n",
              "      <td>서울특별시</td>\n",
              "      <td>강남구</td>\n",
              "      <td>일원1동</td>\n",
              "      <td>일원1동 주민센터(1층)</td>\n",
              "      <td>서울특별시 강남구 양재대로55길 14(일원동)</td>\n",
              "      <td>1층</td>\n",
              "    </tr>\n",
              "    <tr>\n",
              "      <th>20160413</th>\n",
              "      <td>일원2동제1투</td>\n",
              "      <td>서울특별시</td>\n",
              "      <td>강남구</td>\n",
              "      <td>일원2동</td>\n",
              "      <td>일원2동 주민센터(1층, 민원실)</td>\n",
              "      <td>서울특별시 강남구 개포로 607(개포동)</td>\n",
              "      <td>1층</td>\n",
              "    </tr>\n",
              "    <tr>\n",
              "      <th>20160413</th>\n",
              "      <td>수서동제1투</td>\n",
              "      <td>서울특별시</td>\n",
              "      <td>강남구</td>\n",
              "      <td>수서동</td>\n",
              "      <td>수서동주민센터(2층, 회의실)</td>\n",
              "      <td>서울특별시 강남구 광평로 301-4(수서동)</td>\n",
              "      <td>2층</td>\n",
              "    </tr>\n",
              "  </tbody>\n",
              "</table>\n",
              "</div>"
            ],
            "text/plain": [
              "           PsName sdName  ...                    address floor\n",
              "sgId                      ...                                 \n",
              "20160413  가락2동제1투  서울특별시  ...   서울특별시 송파구 중대로20길 6 (가락동)    1층\n",
              "20160413  일원본동제1투  서울특별시  ...    서울특별시 강남구 광평로20길 7(수서동)    1층\n",
              "20160413  일원1동제1투  서울특별시  ...  서울특별시 강남구 양재대로55길 14(일원동)    1층\n",
              "20160413  일원2동제1투  서울특별시  ...     서울특별시 강남구 개포로 607(개포동)    1층\n",
              "20160413   수서동제1투  서울특별시  ...   서울특별시 강남구 광평로 301-4(수서동)    2층\n",
              "\n",
              "[5 rows x 7 columns]"
            ]
          },
          "metadata": {
            "tags": []
          },
          "execution_count": 70
        }
      ]
    },
    {
      "cell_type": "code",
      "metadata": {
        "colab": {
          "base_uri": "https://localhost:8080/",
          "height": 142
        },
        "id": "jx2fFFycvk4M",
        "outputId": "7719e8f9-8477-47d2-9645-845356e42e8e"
      },
      "source": [
        "main_poll[main_poll['placeName'] == '전천후 게이트볼장 (1층)']"
      ],
      "execution_count": null,
      "outputs": [
        {
          "output_type": "execute_result",
          "data": {
            "text/html": [
              "<div>\n",
              "<style scoped>\n",
              "    .dataframe tbody tr th:only-of-type {\n",
              "        vertical-align: middle;\n",
              "    }\n",
              "\n",
              "    .dataframe tbody tr th {\n",
              "        vertical-align: top;\n",
              "    }\n",
              "\n",
              "    .dataframe thead th {\n",
              "        text-align: right;\n",
              "    }\n",
              "</style>\n",
              "<table border=\"1\" class=\"dataframe\">\n",
              "  <thead>\n",
              "    <tr style=\"text-align: right;\">\n",
              "      <th></th>\n",
              "      <th>PsName</th>\n",
              "      <th>sdName</th>\n",
              "      <th>wiwName</th>\n",
              "      <th>emdName</th>\n",
              "      <th>placeName</th>\n",
              "      <th>address</th>\n",
              "      <th>floor</th>\n",
              "    </tr>\n",
              "    <tr>\n",
              "      <th>sgId</th>\n",
              "      <th></th>\n",
              "      <th></th>\n",
              "      <th></th>\n",
              "      <th></th>\n",
              "      <th></th>\n",
              "      <th></th>\n",
              "      <th></th>\n",
              "    </tr>\n",
              "  </thead>\n",
              "  <tbody>\n",
              "    <tr>\n",
              "      <th>20200415</th>\n",
              "      <td>군외면제1투</td>\n",
              "      <td>전라남도</td>\n",
              "      <td>완도군</td>\n",
              "      <td>군외면</td>\n",
              "      <td>전천후 게이트볼장 (1층)</td>\n",
              "      <td>전라남도 완도군 군외면 원동1길 63-15 (원동리 1071-1)</td>\n",
              "      <td>1층</td>\n",
              "    </tr>\n",
              "    <tr>\n",
              "      <th>20200415</th>\n",
              "      <td>신지면제1투</td>\n",
              "      <td>전라남도</td>\n",
              "      <td>완도군</td>\n",
              "      <td>신지면</td>\n",
              "      <td>전천후 게이트볼장 (1층)</td>\n",
              "      <td>전라남도 완도군 신지면 신지로 567 (대곡리 724)</td>\n",
              "      <td>1층</td>\n",
              "    </tr>\n",
              "  </tbody>\n",
              "</table>\n",
              "</div>"
            ],
            "text/plain": [
              "          PsName sdName  ...                               address floor\n",
              "sgId                     ...                                            \n",
              "20200415  군외면제1투   전라남도  ...  전라남도 완도군 군외면 원동1길 63-15 (원동리 1071-1)    1층\n",
              "20200415  신지면제1투   전라남도  ...        전라남도 완도군 신지면 신지로 567 (대곡리 724)    1층\n",
              "\n",
              "[2 rows x 7 columns]"
            ]
          },
          "metadata": {
            "tags": []
          },
          "execution_count": 81
        }
      ]
    },
    {
      "cell_type": "markdown",
      "metadata": {
        "id": "lFe03j9B0qIq"
      },
      "source": [
        "## Promise data preprocessing"
      ]
    },
    {
      "cell_type": "markdown",
      "metadata": {
        "id": "QSqnTU3LmB3h"
      },
      "source": [
        "### collect all winner data"
      ]
    },
    {
      "cell_type": "code",
      "metadata": {
        "id": "hcJqsEw42g0j"
      },
      "source": [
        "elec = election_df[['sgId', 'sgTypecode']]"
      ],
      "execution_count": null,
      "outputs": []
    },
    {
      "cell_type": "code",
      "metadata": {
        "id": "Zvb7_2Ox2zlC"
      },
      "source": [
        "winner_df = pd.DataFrame()\n",
        "\n",
        "for i in range(len(elec)):\n",
        "  sgId = elec['sgId'][i]\n",
        "  sgTypecode = elec['sgTypecode'][i]\n",
        "\n",
        "  if sgTypecode == '0' or sgTypecode == 0:\n",
        "    continue\n",
        "  else:\n",
        "    data = get_winner_df(sgId, sgTypecode)\n",
        "    winner_df = pd.concat([winner_df, data], ignore_index=True)"
      ],
      "execution_count": null,
      "outputs": []
    },
    {
      "cell_type": "markdown",
      "metadata": {
        "id": "RYWmYd1Rmdi7"
      },
      "source": [
        "### extract winners with available typecode"
      ]
    },
    {
      "cell_type": "code",
      "metadata": {
        "colab": {
          "base_uri": "https://localhost:8080/"
        },
        "id": "TZBlgFpmYkL0",
        "outputId": "4575899c-1438-4ced-ca34-85a28687aca1"
      },
      "source": [
        "winner_with_prom = winner_df[(winner_df['SG_TYPECODE'] == '1') | \n",
        "                             (winner_df['SG_TYPECODE'] == '3') | \n",
        "                             (winner_df['SG_TYPECODE'] == '4') | \n",
        "                             (winner_df['SG_TYPECODE'] == '11')]\n",
        "\n",
        "print(len(winner_with_prom))\n",
        "winner_with_prom['SG_TYPECODE'].unique()\n",
        "winner_with_prom.reset_index(drop=True, inplace=True)"
      ],
      "execution_count": null,
      "outputs": [
        {
          "output_type": "stream",
          "text": [
            "281\n"
          ],
          "name": "stdout"
        },
        {
          "output_type": "execute_result",
          "data": {
            "text/plain": [
              "array(['4', '1', '3', '11'], dtype=object)"
            ]
          },
          "metadata": {
            "tags": []
          },
          "execution_count": 14
        }
      ]
    },
    {
      "cell_type": "markdown",
      "metadata": {
        "id": "TGLCFaa_nfXE"
      },
      "source": [
        "### collect all promise data"
      ]
    },
    {
      "cell_type": "code",
      "metadata": {
        "id": "wgCD37rLk9hS"
      },
      "source": [
        "def get_winner_promise(wdf):\n",
        "  total = pd.DataFrame()\n",
        "  for i in wdf.index:\n",
        "    print('\\n', wdf._get_value(i, 'SG_ID'), wdf._get_value(i, 'NAME'), end='')\n",
        "  \n",
        "    try:\n",
        "      cur = get_promise_df(wdf._get_value(i, 'SG_ID'), \n",
        "                           wdf._get_value(i, 'SG_TYPECODE'), \n",
        "                           wdf._get_value(i, 'HUBOID'))\n",
        "      total = pd.concat([total, cur], ignore_index=True)\n",
        "      print('exists')\n",
        "    except:\n",
        "      continue\n",
        "  return total"
      ],
      "execution_count": null,
      "outputs": []
    },
    {
      "cell_type": "markdown",
      "metadata": {
        "id": "jbsUurBjoKT5"
      },
      "source": [
        "### save"
      ]
    },
    {
      "cell_type": "code",
      "metadata": {
        "id": "GHlMh4Iep7pF"
      },
      "source": [
        "# promise_df = get_winner_promise(winner_with_prom)\n",
        "# promise_df.to_csv(\"winner_df.csv\", mode='w')"
      ],
      "execution_count": null,
      "outputs": []
    },
    {
      "cell_type": "markdown",
      "metadata": {
        "id": "qniX74pcoLf4"
      },
      "source": [
        "### load"
      ]
    },
    {
      "cell_type": "code",
      "metadata": {
        "colab": {
          "base_uri": "https://localhost:8080/",
          "height": 406
        },
        "id": "WkKmsPqmcPdU",
        "outputId": "057a094e-1837-4453-9bba-ec80d7f0947a"
      },
      "source": [
        "#!wget https://raw.githubusercontent.com/ElectionInfo/Data_code/main/winner_df.csv &> /dev/null\n",
        "\n",
        "promise_df = pd.read_csv(\"winner_df.csv\")\n",
        "promise_df.head(1)"
      ],
      "execution_count": null,
      "outputs": [
        {
          "output_type": "execute_result",
          "data": {
            "text/html": [
              "<div>\n",
              "<style scoped>\n",
              "    .dataframe tbody tr th:only-of-type {\n",
              "        vertical-align: middle;\n",
              "    }\n",
              "\n",
              "    .dataframe tbody tr th {\n",
              "        vertical-align: top;\n",
              "    }\n",
              "\n",
              "    .dataframe thead th {\n",
              "        text-align: right;\n",
              "    }\n",
              "</style>\n",
              "<table border=\"1\" class=\"dataframe\">\n",
              "  <thead>\n",
              "    <tr style=\"text-align: right;\">\n",
              "      <th></th>\n",
              "      <th>Unnamed: 0</th>\n",
              "      <th>num</th>\n",
              "      <th>sgId</th>\n",
              "      <th>sgTypecode</th>\n",
              "      <th>cnddtId</th>\n",
              "      <th>sggName</th>\n",
              "      <th>sidoName</th>\n",
              "      <th>wiwName</th>\n",
              "      <th>partyName</th>\n",
              "      <th>krName</th>\n",
              "      <th>cnName</th>\n",
              "      <th>prmsCnt</th>\n",
              "      <th>prmsOrd1</th>\n",
              "      <th>prmsRealmName1</th>\n",
              "      <th>prmsTitle1</th>\n",
              "      <th>prmmCont1</th>\n",
              "      <th>prmsOrd2</th>\n",
              "      <th>prmsRealmName2</th>\n",
              "      <th>prmsTitle2</th>\n",
              "      <th>prmmCont2</th>\n",
              "      <th>prmsOrd3</th>\n",
              "      <th>prmsRealmName3</th>\n",
              "      <th>prmsTitle3</th>\n",
              "      <th>prmmCont3</th>\n",
              "      <th>prmsOrd4</th>\n",
              "      <th>prmsRealmName4</th>\n",
              "      <th>prmsTitle4</th>\n",
              "      <th>prmmCont4</th>\n",
              "      <th>prmsOrd5</th>\n",
              "      <th>prmsRealmName5</th>\n",
              "      <th>prmsTitle5</th>\n",
              "      <th>prmmCont5</th>\n",
              "      <th>prmsOrd6</th>\n",
              "      <th>prmsRealmName6</th>\n",
              "      <th>prmsTitle6</th>\n",
              "      <th>prmmCont6</th>\n",
              "      <th>prmsOrd7</th>\n",
              "      <th>prmsRealmName7</th>\n",
              "      <th>prmsTitle7</th>\n",
              "      <th>prmmCont7</th>\n",
              "      <th>prmsOrd8</th>\n",
              "      <th>prmsRealmName8</th>\n",
              "      <th>prmsTitle8</th>\n",
              "      <th>prmmCont8</th>\n",
              "      <th>prmsOrd9</th>\n",
              "      <th>prmsRealmName9</th>\n",
              "      <th>prmsTitle9</th>\n",
              "      <th>prmmCont9</th>\n",
              "      <th>prmsOrd10</th>\n",
              "      <th>prmsRealmName10</th>\n",
              "      <th>prmsTitle10</th>\n",
              "      <th>prmmCont10</th>\n",
              "    </tr>\n",
              "  </thead>\n",
              "  <tbody>\n",
              "    <tr>\n",
              "      <th>0</th>\n",
              "      <td>0</td>\n",
              "      <td>1</td>\n",
              "      <td>20170509</td>\n",
              "      <td>1</td>\n",
              "      <td>100120965</td>\n",
              "      <td>대한민국</td>\n",
              "      <td>전국</td>\n",
              "      <td>NaN</td>\n",
              "      <td>더불어민주당</td>\n",
              "      <td>문재인</td>\n",
              "      <td>文在寅</td>\n",
              "      <td>10</td>\n",
              "      <td>1</td>\n",
              "      <td>노동</td>\n",
              "      <td>일자리를 책임지는 대한민국</td>\n",
              "      <td>일자리 확대, 국민께 드리는 최고의 선물입니다\\n\\n□ 목 표 \\n ○ 삶의 질을 향상시키는 공공·사회 서비스 일자리 창출\\n ○ 혁신적 4차 산업 경제 생태계 구축으로 좋...</td>\n",
              "      <td>2</td>\n",
              "      <td>정치</td>\n",
              "      <td>국민이 주인인 대한민국</td>\n",
              "      <td>정치권력과 권력기관 개혁, 더 이상 미룰 수 없습니다\\n\\n□ 목 표 \\n ○ 지난 이명박·박근혜 정권 9년 적폐 청산에 대한 국민 주권 명령의 이행 \\n ○ 권력기관의 권...</td>\n",
              "      <td>3</td>\n",
              "      <td>정치</td>\n",
              "      <td>공정하고 정의로운 대한민국</td>\n",
              "      <td>반부패·재벌 개혁, 대한민국이 선진국이 됩니다\\n\\n□ 목 표\\n ○ 특권과 특혜 철폐로 공정하고 정의로운 정치·사회 환경 조성\\n ○ 재벌 자본주의 사회를 혁파하여 포용적...</td>\n",
              "      <td>4</td>\n",
              "      <td>통일외교통상, 국방</td>\n",
              "      <td>강하고 평화로운 대한민국</td>\n",
              "      <td>민주주의와 평화를 선도하는 책임 있는 강국을 만들겠습니다\\n\\n□ 목 표\\n ○ 유능한 안보, 강한 대한민국\\n ○ 비핵화와 더불어 평화로운 한반도 구현\\n ○ 당당한 협력...</td>\n",
              "      <td>5</td>\n",
              "      <td>재정경제</td>\n",
              "      <td>청년의 꿈을 지켜주는 대한민국</td>\n",
              "      <td>청년에게 힘이 되는 나라, 청년으로 다시 서는 나라를 만들겠습니다\\n\\n□ 목 표\\n ○ 「청년에게 힘이 되는 나라, 청년으로 다시 서는 나라」 건설\\n ○ 청년들에게 사회...</td>\n",
              "      <td>6.0</td>\n",
              "      <td>여성</td>\n",
              "      <td>성 평등한 대한민국</td>\n",
              "      <td>여성에 대한 성차별, 대통령이 나서서 해결하겠습니다\\n \\n□ 목 표\\n ○ 「여성이 행복한 대한민국」 건설\\n ○ 여성의 대표성 확대를 위한 성평등 환경 조성\\n ○ 일·...</td>\n",
              "      <td>7.0</td>\n",
              "      <td>복지</td>\n",
              "      <td>어르신이 행복한 9988 대한민국</td>\n",
              "      <td>어르신이 세운 대한민국, 대한민국이 보답하겠습니다\\n\\n□ 목 표\\n ○ 「대한민국」을 만들기 위해 노력하신 어르신을 예우\\n ○ 베이비부머 세대의 안정적 노후 생활 안착\\...</td>\n",
              "      <td>8.0</td>\n",
              "      <td>교육</td>\n",
              "      <td>아이 키우기 좋은 대한민국</td>\n",
              "      <td>대한민국 꿈나무 육성, 교육·육아 국가책임제가 정답입니다\\n\\n□ 목 표\\n ○ 인구감소 방지를 통한 사회의 활력 제고\\n ○ 아이 키우기 좋은 사회·직장 환경 조성\\n ○...</td>\n",
              "      <td>9.0</td>\n",
              "      <td>농림해양수산, 산업자원</td>\n",
              "      <td>농어민·자영업자·소상공인의 소득이 늘어나는 활기찬 대한민국</td>\n",
              "      <td>골목상권·농산어촌이 살아나야, 경제가 살아납니다\\n\\n□ 목 표\\n ○ 99%의 중소기업의 활력을 제고하기 위한 종합 정부 기구 수립\\n ○ 자영업자와 소상공인의 마음 편하...</td>\n",
              "      <td>10.0</td>\n",
              "      <td>환경</td>\n",
              "      <td>안전하고 건강한 대한민국</td>\n",
              "      <td>국가가 국민의 생명과 안전을 책임지겠습니다\\n\\n□ 목 표\\n ○ 깨끗하고 안전한 사회의 건설\\n ○ 자연재해와 사회적 재난으로부터 국민을 보호\\n ○ 미세먼지 배출량 감축...</td>\n",
              "    </tr>\n",
              "  </tbody>\n",
              "</table>\n",
              "</div>"
            ],
            "text/plain": [
              "   Unnamed: 0  ...                                                                                           prmmCont10\n",
              "0           0  ...  국가가 국민의 생명과 안전을 책임지겠습니다\\n\\n□ 목 표\\n ○ 깨끗하고 안전한 사회의 건설\\n ○ 자연재해와 사회적 재난으로부터 국민을 보호\\n ○ 미세먼지 배출량 감축...\n",
              "\n",
              "[1 rows x 52 columns]"
            ]
          },
          "metadata": {
            "tags": []
          },
          "execution_count": 77
        }
      ]
    },
    {
      "cell_type": "markdown",
      "metadata": {
        "id": "tMEVSrUooN4g"
      },
      "source": [
        "### parsing promises"
      ]
    },
    {
      "cell_type": "code",
      "metadata": {
        "id": "u4qegwDBuF6R"
      },
      "source": [
        "def promise_parse(prom):\n",
        "  total = pd.DataFrame()\n",
        "  for i in prom.index:\n",
        "    for prmnum in range(1, 11):\n",
        "      \n",
        "      prmord = prom._get_value(i, 'prmsOrd' + str(prmnum))\n",
        "\n",
        "      if pd.isna(prmord) == True:\n",
        "        break\n",
        "\n",
        "      prmcont = prom._get_value(i, 'prmmCont' + str(prmnum))\n",
        "\n",
        "      # prmcont parsing\n",
        "\n",
        "      cur = pd.DataFrame([[\n",
        "                          prom._get_value(i, 'cnddtId'),\n",
        "                          prmord,\n",
        "                          prom._get_value(i, 'prmsTitle' + str(prmnum)),\n",
        "                          prmcont\n",
        "                          ]], columns=['cnddtId', 'prmOrd', 'prmTitle', 'prmCont'])\n",
        "      \n",
        "      total = pd.concat([total, cur], ignore_index=True)\n",
        "  total = total.astype({'cnddtId':int, 'prmOrd':int})\n",
        "  total.set_index('cnddtId', inplace=True)\n",
        "  return total"
      ],
      "execution_count": null,
      "outputs": []
    },
    {
      "cell_type": "code",
      "metadata": {
        "colab": {
          "base_uri": "https://localhost:8080/",
          "height": 235
        },
        "id": "FFhCi-GBhj6r",
        "outputId": "d30df6f1-3ac0-451e-b467-55303cf6afe3"
      },
      "source": [
        "promise = promise_parse(promise_df)\n",
        "promise.head()"
      ],
      "execution_count": null,
      "outputs": [
        {
          "output_type": "execute_result",
          "data": {
            "text/html": [
              "<div>\n",
              "<style scoped>\n",
              "    .dataframe tbody tr th:only-of-type {\n",
              "        vertical-align: middle;\n",
              "    }\n",
              "\n",
              "    .dataframe tbody tr th {\n",
              "        vertical-align: top;\n",
              "    }\n",
              "\n",
              "    .dataframe thead th {\n",
              "        text-align: right;\n",
              "    }\n",
              "</style>\n",
              "<table border=\"1\" class=\"dataframe\">\n",
              "  <thead>\n",
              "    <tr style=\"text-align: right;\">\n",
              "      <th></th>\n",
              "      <th>prmOrd</th>\n",
              "      <th>prmTitle</th>\n",
              "      <th>prmCont</th>\n",
              "    </tr>\n",
              "    <tr>\n",
              "      <th>cnddtId</th>\n",
              "      <th></th>\n",
              "      <th></th>\n",
              "      <th></th>\n",
              "    </tr>\n",
              "  </thead>\n",
              "  <tbody>\n",
              "    <tr>\n",
              "      <th>100120965</th>\n",
              "      <td>1</td>\n",
              "      <td>일자리를 책임지는 대한민국</td>\n",
              "      <td>일자리 확대, 국민께 드리는 최고의 선물입니다\\n\\n□ 목 표 \\n ○ 삶의 질을 향상시키는 공공·사회 서비스 일자리 창출\\n ○ 혁신적 4차 산업 경제 생태계 구축으로 좋...</td>\n",
              "    </tr>\n",
              "    <tr>\n",
              "      <th>100120965</th>\n",
              "      <td>2</td>\n",
              "      <td>국민이 주인인 대한민국</td>\n",
              "      <td>정치권력과 권력기관 개혁, 더 이상 미룰 수 없습니다\\n\\n□ 목 표 \\n ○ 지난 이명박·박근혜 정권 9년 적폐 청산에 대한 국민 주권 명령의 이행 \\n ○ 권력기관의 권...</td>\n",
              "    </tr>\n",
              "    <tr>\n",
              "      <th>100120965</th>\n",
              "      <td>3</td>\n",
              "      <td>공정하고 정의로운 대한민국</td>\n",
              "      <td>반부패·재벌 개혁, 대한민국이 선진국이 됩니다\\n\\n□ 목 표\\n ○ 특권과 특혜 철폐로 공정하고 정의로운 정치·사회 환경 조성\\n ○ 재벌 자본주의 사회를 혁파하여 포용적...</td>\n",
              "    </tr>\n",
              "    <tr>\n",
              "      <th>100120965</th>\n",
              "      <td>4</td>\n",
              "      <td>강하고 평화로운 대한민국</td>\n",
              "      <td>민주주의와 평화를 선도하는 책임 있는 강국을 만들겠습니다\\n\\n□ 목 표\\n ○ 유능한 안보, 강한 대한민국\\n ○ 비핵화와 더불어 평화로운 한반도 구현\\n ○ 당당한 협력...</td>\n",
              "    </tr>\n",
              "    <tr>\n",
              "      <th>100120965</th>\n",
              "      <td>5</td>\n",
              "      <td>청년의 꿈을 지켜주는 대한민국</td>\n",
              "      <td>청년에게 힘이 되는 나라, 청년으로 다시 서는 나라를 만들겠습니다\\n\\n□ 목 표\\n ○ 「청년에게 힘이 되는 나라, 청년으로 다시 서는 나라」 건설\\n ○ 청년들에게 사회...</td>\n",
              "    </tr>\n",
              "  </tbody>\n",
              "</table>\n",
              "</div>"
            ],
            "text/plain": [
              "           prmOrd  ...                                                                                              prmCont\n",
              "cnddtId            ...                                                                                                     \n",
              "100120965       1  ...  일자리 확대, 국민께 드리는 최고의 선물입니다\\n\\n□ 목 표 \\n ○ 삶의 질을 향상시키는 공공·사회 서비스 일자리 창출\\n ○ 혁신적 4차 산업 경제 생태계 구축으로 좋...\n",
              "100120965       2  ...  정치권력과 권력기관 개혁, 더 이상 미룰 수 없습니다\\n\\n□ 목 표 \\n ○ 지난 이명박·박근혜 정권 9년 적폐 청산에 대한 국민 주권 명령의 이행 \\n ○ 권력기관의 권...\n",
              "100120965       3  ...  반부패·재벌 개혁, 대한민국이 선진국이 됩니다\\n\\n□ 목 표\\n ○ 특권과 특혜 철폐로 공정하고 정의로운 정치·사회 환경 조성\\n ○ 재벌 자본주의 사회를 혁파하여 포용적...\n",
              "100120965       4  ...  민주주의와 평화를 선도하는 책임 있는 강국을 만들겠습니다\\n\\n□ 목 표\\n ○ 유능한 안보, 강한 대한민국\\n ○ 비핵화와 더불어 평화로운 한반도 구현\\n ○ 당당한 협력...\n",
              "100120965       5  ...  청년에게 힘이 되는 나라, 청년으로 다시 서는 나라를 만들겠습니다\\n\\n□ 목 표\\n ○ 「청년에게 힘이 되는 나라, 청년으로 다시 서는 나라」 건설\\n ○ 청년들에게 사회...\n",
              "\n",
              "[5 rows x 3 columns]"
            ]
          },
          "metadata": {
            "tags": []
          },
          "execution_count": 99
        }
      ]
    },
    {
      "cell_type": "markdown",
      "metadata": {
        "id": "O9RGEVbx2Oel"
      },
      "source": [
        "# MySQL link to GCP"
      ]
    },
    {
      "cell_type": "markdown",
      "metadata": {
        "id": "_AL7A9E13Y5a"
      },
      "source": [
        "## GCP MySQL connection"
      ]
    },
    {
      "cell_type": "code",
      "metadata": {
        "colab": {
          "base_uri": "https://localhost:8080/"
        },
        "id": "aCIOhB3Y2TNd",
        "outputId": "d449f985-1b28-4073-91b6-4121af769852"
      },
      "source": [
        "host = '34.64.72.201'\n",
        "user = 'root'\n",
        "pw = 'root'\n",
        "db = 'election'\n",
        "port = 3306\n",
        "\n",
        "try:\n",
        "    conn = pymysql.connect(host=host, port=port, user=user, password=pw, db=db)\n",
        "    engine = create_engine('mysql+mysqldb://'+user+':'+pw+'@'+host+':3306/'+db, encoding='utf-8')\n",
        "\n",
        "except Exception as err:\n",
        "    print('Connection Failed (Error msg : ' + str(err) + ')')\n",
        "else:\n",
        "    print('Connection  Success!')"
      ],
      "execution_count": 15,
      "outputs": [
        {
          "output_type": "stream",
          "text": [
            "Connection  Success!\n"
          ],
          "name": "stdout"
        }
      ]
    },
    {
      "cell_type": "code",
      "metadata": {
        "colab": {
          "base_uri": "https://localhost:8080/"
        },
        "id": "JlF3oD4h3mrr",
        "outputId": "cee7ff05-38d2-4bed-a74e-c925f7045288"
      },
      "source": [
        "connection = engine.connect()\n",
        "connection"
      ],
      "execution_count": 16,
      "outputs": [
        {
          "output_type": "execute_result",
          "data": {
            "text/plain": [
              "<sqlalchemy.engine.base.Connection at 0x7fe85b269950>"
            ]
          },
          "metadata": {
            "tags": []
          },
          "execution_count": 16
        }
      ]
    },
    {
      "cell_type": "markdown",
      "metadata": {
        "id": "dHxqvzWuexJb"
      },
      "source": [
        "# Queries & data insert"
      ]
    },
    {
      "cell_type": "markdown",
      "metadata": {
        "id": "3XfpGgZ3e1_s"
      },
      "source": [
        "## CREATE TABLE"
      ]
    },
    {
      "cell_type": "code",
      "metadata": {
        "id": "lGMCMtgdsRnd"
      },
      "source": [
        "cursor = conn.cursor()"
      ],
      "execution_count": 17,
      "outputs": []
    },
    {
      "cell_type": "code",
      "metadata": {
        "colab": {
          "base_uri": "https://localhost:8080/"
        },
        "id": "RbeYjZoEsXTT",
        "outputId": "c34ba503-0c74-4c2e-84ac-c1e65cf5d924"
      },
      "source": [
        "cursor"
      ],
      "execution_count": null,
      "outputs": [
        {
          "output_type": "execute_result",
          "data": {
            "text/plain": [
              "<pymysql.cursors.Cursor at 0x7f6cb2b6e990>"
            ]
          },
          "metadata": {
            "tags": []
          },
          "execution_count": 34
        }
      ]
    },
    {
      "cell_type": "code",
      "metadata": {
        "id": "jy4D1JLs2Nvr"
      },
      "source": [
        "create_election_code = \"\"\"CREATE TABLE election_code (  \n",
        "    sgId INT NOT NULL,\n",
        "    sgTypecode INT NOT NULL,\n",
        "    sgName VARCHAR(50) NOT NULL,\n",
        "    sgVotedate DATETIME NOT NULL,\n",
        "    PRIMARY KEY (sgId, sgTypecode)\n",
        ") default charset utf8;\"\"\""
      ],
      "execution_count": 18,
      "outputs": []
    },
    {
      "cell_type": "code",
      "metadata": {
        "id": "Z0YADzWWe9wV"
      },
      "source": [
        "create_pre_polls = \"\"\"CREATE TABLE pre_polls (  \n",
        "    sgId INT NOT NULL,\n",
        "    sdName VARCHAR(30) NOT NULL ,\n",
        "    wiwName VARCHAR(30) NOT NULL ,\n",
        "    emdName VARCHAR(50) NOT NULL ,\n",
        "    evOrder INT NOT NULL ,\n",
        "    evPsName VARCHAR(80) NOT NULL ,\n",
        "    placeName VARCHAR(100) NOT NULL ,\n",
        "    `address` VARCHAR(150) NOT NULL ,\n",
        "    `floor` VARCHAR(20) NOT NULL ,\n",
        "    PRIMARY KEY(sgId, evPsName, placeName) ,\n",
        "    FOREIGN KEY(sgId) REFERENCES election_code(sgId)\n",
        ") default charset utf8;\"\"\""
      ],
      "execution_count": 38,
      "outputs": []
    },
    {
      "cell_type": "code",
      "metadata": {
        "id": "eXDG0Ozqe-L4"
      },
      "source": [
        "create_main_polls = \"\"\"CREATE TABLE main_polls (  \n",
        "    sgId INT NOT NULL,\n",
        "    sdName VARCHAR(30) NOT NULL ,\n",
        "    wiwName VARCHAR(30) NOT NULL ,\n",
        "    emdName VARCHAR(50) NOT NULL ,\n",
        "    PsName VARCHAR(80) NOT NULL ,\n",
        "    placeName VARCHAR(100) NOT NULL ,\n",
        "    `address` VARCHAR(150) NOT NULL ,\n",
        "    `floor` VARCHAR(20) NOT NULL ,\n",
        "    PRIMARY KEY(sgId, PsName, placeName) ,\n",
        "    FOREIGN KEY(sgId) REFERENCES election_code(sgId)\n",
        ") default charset utf8;\"\"\""
      ],
      "execution_count": 39,
      "outputs": []
    },
    {
      "cell_type": "code",
      "metadata": {
        "colab": {
          "base_uri": "https://localhost:8080/",
          "height": 320
        },
        "id": "My7XYlJGwF8K",
        "outputId": "286b5c0f-c69f-4f0d-e32f-363bda9ae73a"
      },
      "source": [
        "  politician.head()"
      ],
      "execution_count": null,
      "outputs": [
        {
          "output_type": "execute_result",
          "data": {
            "text/html": [
              "<div>\n",
              "<style scoped>\n",
              "    .dataframe tbody tr th:only-of-type {\n",
              "        vertical-align: middle;\n",
              "    }\n",
              "\n",
              "    .dataframe tbody tr th {\n",
              "        vertical-align: top;\n",
              "    }\n",
              "\n",
              "    .dataframe thead th {\n",
              "        text-align: right;\n",
              "    }\n",
              "</style>\n",
              "<table border=\"1\" class=\"dataframe\">\n",
              "  <thead>\n",
              "    <tr style=\"text-align: right;\">\n",
              "      <th></th>\n",
              "      <th>name</th>\n",
              "      <th>imageLink</th>\n",
              "      <th>num</th>\n",
              "      <th>birthday</th>\n",
              "      <th>memTitle</th>\n",
              "      <th>sggName</th>\n",
              "      <th>partyName</th>\n",
              "      <th>age</th>\n",
              "    </tr>\n",
              "    <tr>\n",
              "      <th>deptCode</th>\n",
              "      <th></th>\n",
              "      <th></th>\n",
              "      <th></th>\n",
              "      <th></th>\n",
              "      <th></th>\n",
              "      <th></th>\n",
              "      <th></th>\n",
              "      <th></th>\n",
              "    </tr>\n",
              "  </thead>\n",
              "  <tbody>\n",
              "    <tr>\n",
              "      <th>9771230</th>\n",
              "      <td>강기윤</td>\n",
              "      <td>http://www.assembly.go.kr/photo/9771230.jpg</td>\n",
              "      <td>2685</td>\n",
              "      <td>1960-06-04</td>\n",
              "      <td>[학력]\\r\\n마산공고(26회)\\r\\n창원대학교 행정학과\\r\\n중앙대학교 행정대학원 지방의회과 석사\\r\\n창원대학교 대학원 행정학 박사\\r\\n\\r\\n[경력]\\r\\n현) 국회...</td>\n",
              "      <td>경남 창원시성산구</td>\n",
              "      <td>국민의힘</td>\n",
              "      <td>60</td>\n",
              "    </tr>\n",
              "    <tr>\n",
              "      <th>9771142</th>\n",
              "      <td>강대식</td>\n",
              "      <td>http://www.assembly.go.kr/photo/9771142.jpg</td>\n",
              "      <td>3050</td>\n",
              "      <td>1959-11-02</td>\n",
              "      <td>[학력]\\r\\n송정초등학교\\r\\n안심중학교\\r\\n경북대학교 사범대학 부속고등학교\\r\\n영남대학교 경영대학원 경영학 석사\\r\\n영남대학교 대학원 경영학 박사\\r\\n\\r\\n[경...</td>\n",
              "      <td>대구 동구을</td>\n",
              "      <td>국민의힘</td>\n",
              "      <td>61</td>\n",
              "    </tr>\n",
              "    <tr>\n",
              "      <th>9771174</th>\n",
              "      <td>강득구</td>\n",
              "      <td>http://www.assembly.go.kr/photo/9771174.jpg</td>\n",
              "      <td>3085</td>\n",
              "      <td>1963-05-27</td>\n",
              "      <td>2018. 10. ~ 2019. 5. 민주연구원 자치발전연구센터 본부장 \\r\\n2016. 10. ~ 2018. 3. 경기도 연정부지사\\r\\n2014.  7. ~ 2016. ...</td>\n",
              "      <td>경기 안양시만안구</td>\n",
              "      <td>더불어민주당</td>\n",
              "      <td>57</td>\n",
              "    </tr>\n",
              "    <tr>\n",
              "      <th>9771233</th>\n",
              "      <td>강민국</td>\n",
              "      <td>http://www.assembly.go.kr/photo/9771233.jpg</td>\n",
              "      <td>3091</td>\n",
              "      <td>1971-03-03</td>\n",
              "      <td>[학력]\\r\\n\\r\\n\\r\\n- 봉곡초등학교 졸업(14회)\\r\\n\\r\\n- 진주중학교 졸업(36회)\\r\\n\\r\\n- 진주동명고등학교 졸업(36회)\\r\\n\\r\\n- 경남대학교...</td>\n",
              "      <td>경남 진주시을</td>\n",
              "      <td>국민의힘</td>\n",
              "      <td>49</td>\n",
              "    </tr>\n",
              "    <tr>\n",
              "      <th>9771283</th>\n",
              "      <td>강민정</td>\n",
              "      <td>http://www.assembly.go.kr/photo/9771283.jpg</td>\n",
              "      <td>3019</td>\n",
              "      <td>1961-04-26</td>\n",
              "      <td>현) 열린민주당 원내대표 \\r\\n\\r\\n전) 서울시교육청 혁신학교운영위원회 위원장\\r\\n전) 교육부 민주시민교육자문위원회 위원\\r\\n전) 교육자치정책협의회 위원\\r\\n전) ...</td>\n",
              "      <td>비례대표</td>\n",
              "      <td>열린민주당</td>\n",
              "      <td>59</td>\n",
              "    </tr>\n",
              "  </tbody>\n",
              "</table>\n",
              "</div>"
            ],
            "text/plain": [
              "         name                                    imageLink  ... partyName age\n",
              "deptCode                                                    ...              \n",
              "9771230   강기윤  http://www.assembly.go.kr/photo/9771230.jpg  ...      국민의힘  60\n",
              "9771142   강대식  http://www.assembly.go.kr/photo/9771142.jpg  ...      국민의힘  61\n",
              "9771174   강득구  http://www.assembly.go.kr/photo/9771174.jpg  ...    더불어민주당  57\n",
              "9771233   강민국  http://www.assembly.go.kr/photo/9771233.jpg  ...      국민의힘  49\n",
              "9771283   강민정  http://www.assembly.go.kr/photo/9771283.jpg  ...     열린민주당  59\n",
              "\n",
              "[5 rows x 8 columns]"
            ]
          },
          "metadata": {
            "tags": []
          },
          "execution_count": 89
        }
      ]
    },
    {
      "cell_type": "code",
      "metadata": {
        "id": "hv9_PIE5e-fl"
      },
      "source": [
        "create_politician = \"\"\"CREATE TABLE politician (\n",
        "    num INT NOT NULL ,\n",
        "    `name` VARCHAR(20) NOT NULL ,\n",
        "    imageLink TEXT ,\n",
        "    sggName VARCHAR(35) NOT NULL ,\n",
        "    deptCode INT NOT NULL ,\n",
        "    memTitle LONGTEXT ,\n",
        "    birthday DATETIME NOT NULL ,\n",
        "    partyName VARCHAR(50),\n",
        "    age INT NOT NULL ,\n",
        "    PRIMARY KEY (num)\n",
        ") default charset utf8;\"\"\""
      ],
      "execution_count": 28,
      "outputs": []
    },
    {
      "cell_type": "code",
      "metadata": {
        "colab": {
          "base_uri": "https://localhost:8080/",
          "height": 235
        },
        "id": "jzGSf5yewWUg",
        "outputId": "f9fbc700-abe2-44c0-f43d-527661a16231"
      },
      "source": [
        "candidate.head()"
      ],
      "execution_count": null,
      "outputs": [
        {
          "output_type": "execute_result",
          "data": {
            "text/html": [
              "<div>\n",
              "<style scoped>\n",
              "    .dataframe tbody tr th:only-of-type {\n",
              "        vertical-align: middle;\n",
              "    }\n",
              "\n",
              "    .dataframe tbody tr th {\n",
              "        vertical-align: top;\n",
              "    }\n",
              "\n",
              "    .dataframe thead th {\n",
              "        text-align: right;\n",
              "    }\n",
              "</style>\n",
              "<table border=\"1\" class=\"dataframe\">\n",
              "  <thead>\n",
              "    <tr style=\"text-align: right;\">\n",
              "      <th></th>\n",
              "      <th>sgId</th>\n",
              "      <th>sgTypecode</th>\n",
              "      <th>sggName</th>\n",
              "      <th>sdName</th>\n",
              "      <th>wiwName</th>\n",
              "      <th>giho</th>\n",
              "      <th>name</th>\n",
              "      <th>gender</th>\n",
              "      <th>birthday</th>\n",
              "      <th>address</th>\n",
              "      <th>job</th>\n",
              "      <th>status</th>\n",
              "    </tr>\n",
              "    <tr>\n",
              "      <th>cnddtId</th>\n",
              "      <th></th>\n",
              "      <th></th>\n",
              "      <th></th>\n",
              "      <th></th>\n",
              "      <th></th>\n",
              "      <th></th>\n",
              "      <th></th>\n",
              "      <th></th>\n",
              "      <th></th>\n",
              "      <th></th>\n",
              "      <th></th>\n",
              "      <th></th>\n",
              "    </tr>\n",
              "  </thead>\n",
              "  <tbody>\n",
              "    <tr>\n",
              "      <th>100118613</th>\n",
              "      <td>20160413</td>\n",
              "      <td>2</td>\n",
              "      <td>종로구</td>\n",
              "      <td>서울특별시</td>\n",
              "      <td>종로구</td>\n",
              "      <td>1</td>\n",
              "      <td>오세훈</td>\n",
              "      <td>0</td>\n",
              "      <td>1961-01-04</td>\n",
              "      <td></td>\n",
              "      <td>변호사</td>\n",
              "      <td>0</td>\n",
              "    </tr>\n",
              "    <tr>\n",
              "      <th>100119321</th>\n",
              "      <td>20160413</td>\n",
              "      <td>2</td>\n",
              "      <td>종로구</td>\n",
              "      <td>서울특별시</td>\n",
              "      <td>종로구</td>\n",
              "      <td>2</td>\n",
              "      <td>정세균</td>\n",
              "      <td>0</td>\n",
              "      <td>1950-09-26</td>\n",
              "      <td></td>\n",
              "      <td>국회의원</td>\n",
              "      <td>0</td>\n",
              "    </tr>\n",
              "    <tr>\n",
              "      <th>100119833</th>\n",
              "      <td>20160413</td>\n",
              "      <td>2</td>\n",
              "      <td>종로구</td>\n",
              "      <td>서울특별시</td>\n",
              "      <td>종로구</td>\n",
              "      <td>3</td>\n",
              "      <td>박태순</td>\n",
              "      <td>0</td>\n",
              "      <td>1963-02-28</td>\n",
              "      <td></td>\n",
              "      <td>사회갈등연구소 대표이사</td>\n",
              "      <td>0</td>\n",
              "    </tr>\n",
              "    <tr>\n",
              "      <th>100120092</th>\n",
              "      <td>20160413</td>\n",
              "      <td>2</td>\n",
              "      <td>종로구</td>\n",
              "      <td>서울특별시</td>\n",
              "      <td>종로구</td>\n",
              "      <td>4</td>\n",
              "      <td>윤공규</td>\n",
              "      <td>0</td>\n",
              "      <td>1963-04-21</td>\n",
              "      <td></td>\n",
              "      <td>정당인</td>\n",
              "      <td>0</td>\n",
              "    </tr>\n",
              "    <tr>\n",
              "      <th>100120147</th>\n",
              "      <td>20160413</td>\n",
              "      <td>2</td>\n",
              "      <td>종로구</td>\n",
              "      <td>서울특별시</td>\n",
              "      <td>종로구</td>\n",
              "      <td>5</td>\n",
              "      <td>김한울</td>\n",
              "      <td>0</td>\n",
              "      <td>1978-12-16</td>\n",
              "      <td></td>\n",
              "      <td>종로구 지역 활동가</td>\n",
              "      <td>0</td>\n",
              "    </tr>\n",
              "  </tbody>\n",
              "</table>\n",
              "</div>"
            ],
            "text/plain": [
              "               sgId  sgTypecode sggName  ... address           job  status\n",
              "cnddtId                                  ...                              \n",
              "100118613  20160413           2     종로구  ...                   변호사       0\n",
              "100119321  20160413           2     종로구  ...                  국회의원       0\n",
              "100119833  20160413           2     종로구  ...          사회갈등연구소 대표이사       0\n",
              "100120092  20160413           2     종로구  ...                   정당인       0\n",
              "100120147  20160413           2     종로구  ...            종로구 지역 활동가       0\n",
              "\n",
              "[5 rows x 12 columns]"
            ]
          },
          "metadata": {
            "tags": []
          },
          "execution_count": 93
        }
      ]
    },
    {
      "cell_type": "code",
      "metadata": {
        "id": "NvtPKj7_e_dp"
      },
      "source": [
        "create_candidate = \"\"\"CREATE TABLE candidate (\n",
        "    cnddtId INT NOT NULL ,\n",
        "    sgId INT NOT NULL ,\n",
        "    sgTypecode INT NOT NULL ,\n",
        "    sggName VARCHAR(35) NOT NULL ,\n",
        "    sdName VARCHAR(30) NOT NULL ,\n",
        "    wiwName VARCHAR(30) NOT NULL ,\n",
        "    giho INT NOT NULL ,\n",
        "    partyName VARCHAR(50),\n",
        "    `name` VARCHAR(20) NOT NULL ,\n",
        "    gender TINYINT NOT NULL ,\n",
        "    `address` VARCHAR(100) ,\n",
        "    job VARCHAR(100) ,\n",
        "    `status` TINYINT NOT NULL ,\n",
        "    birthday DATETIME NOT NULL ,\n",
        "    PRIMARY KEY (cnddtId),\n",
        "    FOREIGN KEY (sgId, sgTypecode) REFERENCES election_code (sgId, sgTypecode)\n",
        ") default charset utf8;\"\"\""
      ],
      "execution_count": 29,
      "outputs": []
    },
    {
      "cell_type": "code",
      "metadata": {
        "id": "JJA6tG4We_hm"
      },
      "source": [
        "create_promise = \"\"\"CREATE TABLE promise (\n",
        "    cnddtId INT NOT NULL ,\n",
        "    prmOrd INT NOT NULL,\n",
        "    prmTitle VARCHAR(100) ,\n",
        "    prmCont LONGTEXT,\n",
        "    PRIMARY KEY (cnddtId, prmOrd),\n",
        "    FOREIGN KEY (cnddtId) REFERENCES candidate (cnddtId)\n",
        ");\"\"\""
      ],
      "execution_count": 44,
      "outputs": []
    },
    {
      "cell_type": "markdown",
      "metadata": {
        "id": "nXHLyhaUiQxB"
      },
      "source": [
        "## Data insert"
      ]
    },
    {
      "cell_type": "markdown",
      "metadata": {
        "id": "15lOY9SViTg5"
      },
      "source": [
        "### election_code insert"
      ]
    },
    {
      "cell_type": "code",
      "metadata": {
        "colab": {
          "base_uri": "https://localhost:8080/"
        },
        "id": "Z7zP6Y0Nseol",
        "outputId": "6bc3fd39-9d42-46c9-9076-ad3a7e8b39f8"
      },
      "source": [
        "cursor.execute(create_election_code)"
      ],
      "execution_count": 19,
      "outputs": [
        {
          "output_type": "execute_result",
          "data": {
            "text/plain": [
              "0"
            ]
          },
          "metadata": {
            "tags": []
          },
          "execution_count": 19
        }
      ]
    },
    {
      "cell_type": "code",
      "metadata": {
        "colab": {
          "base_uri": "https://localhost:8080/"
        },
        "id": "jcT_dclfsfVX",
        "outputId": "5edfd4fe-202a-4cab-e20b-0b11781acbf7"
      },
      "source": [
        "cursor.execute(create_pre_polls)"
      ],
      "execution_count": 40,
      "outputs": [
        {
          "output_type": "execute_result",
          "data": {
            "text/plain": [
              "0"
            ]
          },
          "metadata": {
            "tags": []
          },
          "execution_count": 40
        }
      ]
    },
    {
      "cell_type": "code",
      "metadata": {
        "colab": {
          "base_uri": "https://localhost:8080/"
        },
        "id": "PVVkzv1wsfrF",
        "outputId": "1efa381c-94ff-4396-f4d6-5a188597c515"
      },
      "source": [
        "cursor.execute(create_main_polls)"
      ],
      "execution_count": 41,
      "outputs": [
        {
          "output_type": "execute_result",
          "data": {
            "text/plain": [
              "0"
            ]
          },
          "metadata": {
            "tags": []
          },
          "execution_count": 41
        }
      ]
    },
    {
      "cell_type": "code",
      "metadata": {
        "colab": {
          "base_uri": "https://localhost:8080/"
        },
        "id": "FR0Up9fqsgD8",
        "outputId": "3756b2b1-9fbd-4233-c134-b4f45931a0bf"
      },
      "source": [
        "cursor.execute(create_politician)"
      ],
      "execution_count": 30,
      "outputs": [
        {
          "output_type": "execute_result",
          "data": {
            "text/plain": [
              "0"
            ]
          },
          "metadata": {
            "tags": []
          },
          "execution_count": 30
        }
      ]
    },
    {
      "cell_type": "code",
      "metadata": {
        "colab": {
          "base_uri": "https://localhost:8080/"
        },
        "id": "WtvNCKE4sh04",
        "outputId": "f2979344-b53d-4539-8ba8-c516ebb6d393"
      },
      "source": [
        "cursor.execute(create_candidate)"
      ],
      "execution_count": 31,
      "outputs": [
        {
          "output_type": "execute_result",
          "data": {
            "text/plain": [
              "0"
            ]
          },
          "metadata": {
            "tags": []
          },
          "execution_count": 31
        }
      ]
    },
    {
      "cell_type": "code",
      "metadata": {
        "id": "cOHEJ1HusiJM",
        "colab": {
          "base_uri": "https://localhost:8080/"
        },
        "outputId": "e7b34776-de05-4f68-fe18-0a8223df8781"
      },
      "source": [
        "cursor.execute(create_promise)"
      ],
      "execution_count": 45,
      "outputs": [
        {
          "output_type": "execute_result",
          "data": {
            "text/plain": [
              "0"
            ]
          },
          "metadata": {
            "tags": []
          },
          "execution_count": 45
        }
      ]
    },
    {
      "cell_type": "code",
      "metadata": {
        "id": "XMHIRC5IiVDb"
      },
      "source": [
        "election_code.to_sql(name='election_code', con=engine, if_exists='append')"
      ],
      "execution_count": 20,
      "outputs": []
    },
    {
      "cell_type": "markdown",
      "metadata": {
        "id": "ox1tNFQ7bzIL"
      },
      "source": [
        "### Politician insert"
      ]
    },
    {
      "cell_type": "code",
      "metadata": {
        "id": "lPO4Hqo9b1xD"
      },
      "source": [
        "politician.to_sql(name='politician', con=engine, if_exists='append')"
      ],
      "execution_count": 32,
      "outputs": []
    },
    {
      "cell_type": "markdown",
      "metadata": {
        "id": "OT4zF_U66biJ"
      },
      "source": [
        "### candidate insert"
      ]
    },
    {
      "cell_type": "code",
      "metadata": {
        "id": "X6zwUF_Eij3p"
      },
      "source": [
        "candidate.to_sql(name='candidate', con=engine, if_exists='append')"
      ],
      "execution_count": 33,
      "outputs": []
    },
    {
      "cell_type": "markdown",
      "metadata": {
        "id": "Cd8jEme5vrrO"
      },
      "source": [
        "### pre_poll insert"
      ]
    },
    {
      "cell_type": "code",
      "metadata": {
        "id": "lYANoOXNvyP5"
      },
      "source": [
        "pre_poll.to_sql(name='pre_polls', con=engine, if_exists='append')"
      ],
      "execution_count": 42,
      "outputs": []
    },
    {
      "cell_type": "markdown",
      "metadata": {
        "id": "g4UWIhdkvy9n"
      },
      "source": [
        "### main_poll insert"
      ]
    },
    {
      "cell_type": "code",
      "metadata": {
        "id": "6htLoYmiv1Dt"
      },
      "source": [
        "main_poll.to_sql(name='main_polls', con=engine, if_exists='append')"
      ],
      "execution_count": 43,
      "outputs": []
    },
    {
      "cell_type": "markdown",
      "metadata": {
        "id": "VPpHRLAclzm2"
      },
      "source": [
        "### promise insert"
      ]
    },
    {
      "cell_type": "code",
      "metadata": {
        "id": "r15f8ulil2UR"
      },
      "source": [
        "promise.to_sql(name='promise', con=engine, if_exists='append')"
      ],
      "execution_count": null,
      "outputs": []
    }
  ]
}